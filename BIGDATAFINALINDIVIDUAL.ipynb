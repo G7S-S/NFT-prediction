{
 "cells": [
  {
   "cell_type": "markdown",
   "id": "1de2e11a",
   "metadata": {},
   "source": [
    "# Individual Coursework Assignment"
   ]
  },
  {
   "cell_type": "markdown",
   "id": "9267690c",
   "metadata": {},
   "source": [
    "## Business context - Helping Budget Auto Insurance"
   ]
  },
  {
   "cell_type": "markdown",
   "id": "a02cc4ad",
   "metadata": {},
   "source": [
    "Vehicle insurance company - Budget Auto Insurance is looking to optimize its revenue with the\n",
    "power of public domain data on the accidents available in UK government website. The aim is to\n",
    "utilize vital information regarding the accident data and create a predictive modelling based on the\n",
    "various variables which can be collected from customers such as vehicle type, age of the drive, sex\n",
    "of the driver, engine capacity of the vehicle, driver home area type, propulsion code etc. to predict\n",
    "the type of accident severity that can be anticipated from the customer and model the insurance\n",
    "premium cost based on this target variable. Doing this would be beneficial to the company by\n",
    "ensuring the right amount of premium is collected from customers more prone to severe accidents\n",
    "and also gain more customers by providing lower premium to those who are not prone to severe\n",
    "accidents."
   ]
  },
  {
   "cell_type": "markdown",
   "id": "025b41ad",
   "metadata": {},
   "source": [
    "The type of prediction problem being analyzed here is of supervised learning classification type, we train the dataset on the selected parameters which are treated appropriately to result in the best performance possible. \n",
    "The extended aim is to optimize the model using various data treatment methods and also by the efficient use of hyperparameter tuning"
   ]
  },
  {
   "cell_type": "code",
   "execution_count": 1,
   "id": "ed9e2d69",
   "metadata": {},
   "outputs": [],
   "source": [
    "import pandas as pd\n",
    "import numpy as np"
   ]
  },
  {
   "cell_type": "code",
   "execution_count": 2,
   "id": "688d80c9",
   "metadata": {},
   "outputs": [],
   "source": [
    "# setting logging to print only error messages\n",
    "import logging\n",
    "logging.basicConfig()\n",
    "logging.getLogger().setLevel(logging.ERROR)\n",
    "\n",
    "import pandas as pd\n",
    "import numpy as np\n",
    "\n",
    "import time"
   ]
  },
  {
   "cell_type": "markdown",
   "id": "8b5eb9f6",
   "metadata": {},
   "source": [
    "### Loading dataset"
   ]
  },
  {
   "cell_type": "code",
   "execution_count": 3,
   "id": "14d0c63d",
   "metadata": {},
   "outputs": [],
   "source": [
    "trainset = pd.read_csv('trainset.csv')"
   ]
  },
  {
   "cell_type": "code",
   "execution_count": 4,
   "id": "938a65f3",
   "metadata": {},
   "outputs": [],
   "source": [
    "testset = pd.read_csv('testset.csv')"
   ]
  },
  {
   "cell_type": "code",
   "execution_count": 5,
   "id": "fa0301b2",
   "metadata": {},
   "outputs": [
    {
     "data": {
      "text/html": [
       "<div>\n",
       "<style scoped>\n",
       "    .dataframe tbody tr th:only-of-type {\n",
       "        vertical-align: middle;\n",
       "    }\n",
       "\n",
       "    .dataframe tbody tr th {\n",
       "        vertical-align: top;\n",
       "    }\n",
       "\n",
       "    .dataframe thead th {\n",
       "        text-align: right;\n",
       "    }\n",
       "</style>\n",
       "<table border=\"1\" class=\"dataframe\">\n",
       "  <thead>\n",
       "    <tr style=\"text-align: right;\">\n",
       "      <th></th>\n",
       "      <th>longitude</th>\n",
       "      <th>latitude</th>\n",
       "      <th>accident_severity</th>\n",
       "      <th>accident_year_y</th>\n",
       "      <th>vehicle_type</th>\n",
       "      <th>sex_of_driver</th>\n",
       "      <th>age_of_driver</th>\n",
       "      <th>age_band_of_driver</th>\n",
       "      <th>engine_capacity_cc</th>\n",
       "      <th>propulsion_code</th>\n",
       "      <th>...</th>\n",
       "      <th>3.0</th>\n",
       "      <th>4.0</th>\n",
       "      <th>5.0</th>\n",
       "      <th>6.0</th>\n",
       "      <th>7.0</th>\n",
       "      <th>8.0</th>\n",
       "      <th>9.0</th>\n",
       "      <th>10.0</th>\n",
       "      <th>Small town</th>\n",
       "      <th>Urban area</th>\n",
       "    </tr>\n",
       "  </thead>\n",
       "  <tbody>\n",
       "    <tr>\n",
       "      <th>0</th>\n",
       "      <td>-2.177585</td>\n",
       "      <td>53.408598</td>\n",
       "      <td>Serious</td>\n",
       "      <td>2018</td>\n",
       "      <td>Two-wheeler</td>\n",
       "      <td>Male</td>\n",
       "      <td>25.0</td>\n",
       "      <td>Young Adult</td>\n",
       "      <td>999.0</td>\n",
       "      <td>Petrol</td>\n",
       "      <td>...</td>\n",
       "      <td>0.0</td>\n",
       "      <td>0.0</td>\n",
       "      <td>0.0</td>\n",
       "      <td>0.0</td>\n",
       "      <td>1.0</td>\n",
       "      <td>0.0</td>\n",
       "      <td>0.0</td>\n",
       "      <td>0.0</td>\n",
       "      <td>0.0</td>\n",
       "      <td>1.0</td>\n",
       "    </tr>\n",
       "    <tr>\n",
       "      <th>1</th>\n",
       "      <td>-0.092945</td>\n",
       "      <td>51.379843</td>\n",
       "      <td>Slight</td>\n",
       "      <td>2020</td>\n",
       "      <td>Two-wheeler</td>\n",
       "      <td>Male</td>\n",
       "      <td>25.0</td>\n",
       "      <td>Young Adult</td>\n",
       "      <td>124.0</td>\n",
       "      <td>Petrol</td>\n",
       "      <td>...</td>\n",
       "      <td>0.0</td>\n",
       "      <td>0.0</td>\n",
       "      <td>1.0</td>\n",
       "      <td>0.0</td>\n",
       "      <td>0.0</td>\n",
       "      <td>0.0</td>\n",
       "      <td>0.0</td>\n",
       "      <td>0.0</td>\n",
       "      <td>0.0</td>\n",
       "      <td>1.0</td>\n",
       "    </tr>\n",
       "    <tr>\n",
       "      <th>2</th>\n",
       "      <td>-1.853969</td>\n",
       "      <td>54.962991</td>\n",
       "      <td>Serious</td>\n",
       "      <td>2020</td>\n",
       "      <td>Two-wheeler</td>\n",
       "      <td>Male</td>\n",
       "      <td>25.0</td>\n",
       "      <td>Young Adult</td>\n",
       "      <td>125.0</td>\n",
       "      <td>Petrol</td>\n",
       "      <td>...</td>\n",
       "      <td>0.0</td>\n",
       "      <td>1.0</td>\n",
       "      <td>0.0</td>\n",
       "      <td>0.0</td>\n",
       "      <td>0.0</td>\n",
       "      <td>0.0</td>\n",
       "      <td>0.0</td>\n",
       "      <td>0.0</td>\n",
       "      <td>0.0</td>\n",
       "      <td>1.0</td>\n",
       "    </tr>\n",
       "    <tr>\n",
       "      <th>3</th>\n",
       "      <td>-2.190595</td>\n",
       "      <td>53.853124</td>\n",
       "      <td>Slight</td>\n",
       "      <td>2018</td>\n",
       "      <td>Car</td>\n",
       "      <td>Female</td>\n",
       "      <td>28.0</td>\n",
       "      <td>Young Adult</td>\n",
       "      <td>998.0</td>\n",
       "      <td>Petrol</td>\n",
       "      <td>...</td>\n",
       "      <td>0.0</td>\n",
       "      <td>0.0</td>\n",
       "      <td>0.0</td>\n",
       "      <td>0.0</td>\n",
       "      <td>0.0</td>\n",
       "      <td>0.0</td>\n",
       "      <td>0.0</td>\n",
       "      <td>0.0</td>\n",
       "      <td>0.0</td>\n",
       "      <td>1.0</td>\n",
       "    </tr>\n",
       "    <tr>\n",
       "      <th>4</th>\n",
       "      <td>-0.204440</td>\n",
       "      <td>51.488573</td>\n",
       "      <td>Serious</td>\n",
       "      <td>2019</td>\n",
       "      <td>Two-wheeler</td>\n",
       "      <td>Male</td>\n",
       "      <td>17.0</td>\n",
       "      <td>Teen</td>\n",
       "      <td>108.0</td>\n",
       "      <td>Petrol</td>\n",
       "      <td>...</td>\n",
       "      <td>0.0</td>\n",
       "      <td>0.0</td>\n",
       "      <td>0.0</td>\n",
       "      <td>0.0</td>\n",
       "      <td>0.0</td>\n",
       "      <td>1.0</td>\n",
       "      <td>0.0</td>\n",
       "      <td>0.0</td>\n",
       "      <td>0.0</td>\n",
       "      <td>1.0</td>\n",
       "    </tr>\n",
       "  </tbody>\n",
       "</table>\n",
       "<p>5 rows × 36 columns</p>\n",
       "</div>"
      ],
      "text/plain": [
       "   longitude   latitude accident_severity  accident_year_y vehicle_type  \\\n",
       "0  -2.177585  53.408598           Serious             2018  Two-wheeler   \n",
       "1  -0.092945  51.379843            Slight             2020  Two-wheeler   \n",
       "2  -1.853969  54.962991           Serious             2020  Two-wheeler   \n",
       "3  -2.190595  53.853124            Slight             2018          Car   \n",
       "4  -0.204440  51.488573           Serious             2019  Two-wheeler   \n",
       "\n",
       "  sex_of_driver  age_of_driver age_band_of_driver  engine_capacity_cc  \\\n",
       "0          Male           25.0        Young Adult               999.0   \n",
       "1          Male           25.0        Young Adult               124.0   \n",
       "2          Male           25.0        Young Adult               125.0   \n",
       "3        Female           28.0        Young Adult               998.0   \n",
       "4          Male           17.0               Teen               108.0   \n",
       "\n",
       "  propulsion_code  ...  3.0  4.0  5.0  6.0  7.0  8.0  9.0  10.0  Small town  \\\n",
       "0          Petrol  ...  0.0  0.0  0.0  0.0  1.0  0.0  0.0   0.0         0.0   \n",
       "1          Petrol  ...  0.0  0.0  1.0  0.0  0.0  0.0  0.0   0.0         0.0   \n",
       "2          Petrol  ...  0.0  1.0  0.0  0.0  0.0  0.0  0.0   0.0         0.0   \n",
       "3          Petrol  ...  0.0  0.0  0.0  0.0  0.0  0.0  0.0   0.0         0.0   \n",
       "4          Petrol  ...  0.0  0.0  0.0  0.0  0.0  1.0  0.0   0.0         0.0   \n",
       "\n",
       "   Urban area  \n",
       "0         1.0  \n",
       "1         1.0  \n",
       "2         1.0  \n",
       "3         1.0  \n",
       "4         1.0  \n",
       "\n",
       "[5 rows x 36 columns]"
      ]
     },
     "execution_count": 5,
     "metadata": {},
     "output_type": "execute_result"
    }
   ],
   "source": [
    "trainset.head()"
   ]
  },
  {
   "cell_type": "markdown",
   "id": "1198e8ee",
   "metadata": {},
   "source": [
    "## Data inspection for transformation"
   ]
  },
  {
   "cell_type": "code",
   "execution_count": 6,
   "id": "869ee2f1",
   "metadata": {},
   "outputs": [
    {
     "data": {
      "image/png": "[encoded data removed]",
      "text/plain": [
       "<Figure size 1152x864 with 30 Axes>"
      ]
     },
     "metadata": {
      "needs_background": "light"
     },
     "output_type": "display_data"
    }
   ],
   "source": [
    "dummy = trainset.hist(bins=50, figsize=(16,12))"
   ]
  },
  {
   "cell_type": "markdown",
   "id": "8ed91782",
   "metadata": {},
   "source": [
    "By analysing the above graphs we can understand there are some numerical variables which are skewed"
   ]
  },
  {
   "cell_type": "markdown",
   "id": "26066942",
   "metadata": {},
   "source": [
    "## Variable transformation for performance"
   ]
  },
  {
   "cell_type": "markdown",
   "id": "57cc31ef",
   "metadata": {},
   "source": [
    "Machine learning performance is known to increase with the log transformation of heavy tailed variables to gain normal distribution, so that predictive power increases"
   ]
  },
  {
   "cell_type": "markdown",
   "id": "ad9df077",
   "metadata": {},
   "source": [
    "### Log transformation"
   ]
  },
  {
   "cell_type": "code",
   "execution_count": 7,
   "id": "1d1ee454",
   "metadata": {},
   "outputs": [],
   "source": [
    "#Iterating over all the rows and log converting them\n",
    "for x in [\"age_of_vehicle\", \"age_of_driver\"]:\n",
    "    # add 1 so that 0s remain 0s\n",
    "    trainset[x] = np.log(trainset[x] + 1)\n",
    "    testset[x] = np.log(testset[x] + 1)"
   ]
  },
  {
   "cell_type": "markdown",
   "id": "cdc261ec",
   "metadata": {},
   "source": [
    "Dropping categorical variables already converted to dummy columns "
   ]
  },
  {
   "cell_type": "code",
   "execution_count": 8,
   "id": "b9ba1572",
   "metadata": {},
   "outputs": [],
   "source": [
    "cols_to_drop = ['vehicle_type', 'sex_of_driver', 'age_band_of_driver', 'propulsion_code', 'driver_imd_decile', 'driver_home_area_type']\n",
    "trainset.drop(columns=cols_to_drop, inplace=True)\n",
    "testset.drop(columns=cols_to_drop, inplace=True)"
   ]
  },
  {
   "cell_type": "markdown",
   "id": "4fdc16c6",
   "metadata": {},
   "source": [
    "### Scaling data"
   ]
  },
  {
   "cell_type": "markdown",
   "id": "36d64fe7",
   "metadata": {},
   "source": [
    "Scaling training data set to obtain good perfromance of the predictive model"
   ]
  },
  {
   "cell_type": "code",
   "execution_count": 9,
   "id": "06a7189f",
   "metadata": {},
   "outputs": [
    {
     "data": {
      "text/html": [
       "<div>\n",
       "<style scoped>\n",
       "    .dataframe tbody tr th:only-of-type {\n",
       "        vertical-align: middle;\n",
       "    }\n",
       "\n",
       "    .dataframe tbody tr th {\n",
       "        vertical-align: top;\n",
       "    }\n",
       "\n",
       "    .dataframe thead th {\n",
       "        text-align: right;\n",
       "    }\n",
       "</style>\n",
       "<table border=\"1\" class=\"dataframe\">\n",
       "  <thead>\n",
       "    <tr style=\"text-align: right;\">\n",
       "      <th></th>\n",
       "      <th>longitude</th>\n",
       "      <th>latitude</th>\n",
       "      <th>accident_year_y</th>\n",
       "      <th>age_of_driver</th>\n",
       "      <th>engine_capacity_cc</th>\n",
       "      <th>age_of_vehicle</th>\n",
       "      <th>Heavy  Cargo Vehicle</th>\n",
       "      <th>Heavy Passenger Vehicle</th>\n",
       "      <th>Two-wheeler</th>\n",
       "      <th>Male</th>\n",
       "      <th>...</th>\n",
       "      <th>4.0</th>\n",
       "      <th>5.0</th>\n",
       "      <th>6.0</th>\n",
       "      <th>7.0</th>\n",
       "      <th>8.0</th>\n",
       "      <th>9.0</th>\n",
       "      <th>10.0</th>\n",
       "      <th>Small town</th>\n",
       "      <th>Urban area</th>\n",
       "      <th>accident_severity</th>\n",
       "    </tr>\n",
       "  </thead>\n",
       "  <tbody>\n",
       "    <tr>\n",
       "      <th>0</th>\n",
       "      <td>-0.625563</td>\n",
       "      <td>0.725562</td>\n",
       "      <td>-1.102772</td>\n",
       "      <td>-1.007048</td>\n",
       "      <td>-1.001778</td>\n",
       "      <td>0.717615</td>\n",
       "      <td>-0.261002</td>\n",
       "      <td>-0.036962</td>\n",
       "      <td>3.372238</td>\n",
       "      <td>0.735583</td>\n",
       "      <td>...</td>\n",
       "      <td>-0.352484</td>\n",
       "      <td>-0.343413</td>\n",
       "      <td>-0.336184</td>\n",
       "      <td>3.096138</td>\n",
       "      <td>-0.314126</td>\n",
       "      <td>-0.303664</td>\n",
       "      <td>-0.281985</td>\n",
       "      <td>-0.321136</td>\n",
       "      <td>0.526332</td>\n",
       "      <td>Serious</td>\n",
       "    </tr>\n",
       "    <tr>\n",
       "      <th>1</th>\n",
       "      <td>0.837839</td>\n",
       "      <td>-0.753235</td>\n",
       "      <td>1.410843</td>\n",
       "      <td>-1.007048</td>\n",
       "      <td>-2.546855</td>\n",
       "      <td>-0.732592</td>\n",
       "      <td>-0.261002</td>\n",
       "      <td>-0.036962</td>\n",
       "      <td>3.372238</td>\n",
       "      <td>0.735583</td>\n",
       "      <td>...</td>\n",
       "      <td>-0.352484</td>\n",
       "      <td>2.911943</td>\n",
       "      <td>-0.336184</td>\n",
       "      <td>-0.322983</td>\n",
       "      <td>-0.314126</td>\n",
       "      <td>-0.303664</td>\n",
       "      <td>-0.281985</td>\n",
       "      <td>-0.321136</td>\n",
       "      <td>0.526332</td>\n",
       "      <td>Slight</td>\n",
       "    </tr>\n",
       "    <tr>\n",
       "      <th>2</th>\n",
       "      <td>-0.398387</td>\n",
       "      <td>1.858589</td>\n",
       "      <td>1.410843</td>\n",
       "      <td>-1.007048</td>\n",
       "      <td>-2.545089</td>\n",
       "      <td>-2.562549</td>\n",
       "      <td>-0.261002</td>\n",
       "      <td>-0.036962</td>\n",
       "      <td>3.372238</td>\n",
       "      <td>0.735583</td>\n",
       "      <td>...</td>\n",
       "      <td>2.837011</td>\n",
       "      <td>-0.343413</td>\n",
       "      <td>-0.336184</td>\n",
       "      <td>-0.322983</td>\n",
       "      <td>-0.314126</td>\n",
       "      <td>-0.303664</td>\n",
       "      <td>-0.281985</td>\n",
       "      <td>-0.321136</td>\n",
       "      <td>0.526332</td>\n",
       "      <td>Serious</td>\n",
       "    </tr>\n",
       "    <tr>\n",
       "      <th>3</th>\n",
       "      <td>-0.634696</td>\n",
       "      <td>1.049586</td>\n",
       "      <td>-1.102772</td>\n",
       "      <td>-0.733183</td>\n",
       "      <td>-1.003544</td>\n",
       "      <td>0.602757</td>\n",
       "      <td>-0.261002</td>\n",
       "      <td>-0.036962</td>\n",
       "      <td>-0.296539</td>\n",
       "      <td>-1.359465</td>\n",
       "      <td>...</td>\n",
       "      <td>-0.352484</td>\n",
       "      <td>-0.343413</td>\n",
       "      <td>-0.336184</td>\n",
       "      <td>-0.322983</td>\n",
       "      <td>-0.314126</td>\n",
       "      <td>-0.303664</td>\n",
       "      <td>-0.281985</td>\n",
       "      <td>-0.321136</td>\n",
       "      <td>0.526332</td>\n",
       "      <td>Slight</td>\n",
       "    </tr>\n",
       "    <tr>\n",
       "      <th>4</th>\n",
       "      <td>0.759571</td>\n",
       "      <td>-0.673980</td>\n",
       "      <td>0.154036</td>\n",
       "      <td>-1.929278</td>\n",
       "      <td>-2.575108</td>\n",
       "      <td>-1.112342</td>\n",
       "      <td>-0.261002</td>\n",
       "      <td>-0.036962</td>\n",
       "      <td>3.372238</td>\n",
       "      <td>0.735583</td>\n",
       "      <td>...</td>\n",
       "      <td>-0.352484</td>\n",
       "      <td>-0.343413</td>\n",
       "      <td>-0.336184</td>\n",
       "      <td>-0.322983</td>\n",
       "      <td>3.183436</td>\n",
       "      <td>-0.303664</td>\n",
       "      <td>-0.281985</td>\n",
       "      <td>-0.321136</td>\n",
       "      <td>0.526332</td>\n",
       "      <td>Serious</td>\n",
       "    </tr>\n",
       "  </tbody>\n",
       "</table>\n",
       "<p>5 rows × 30 columns</p>\n",
       "</div>"
      ],
      "text/plain": [
       "   longitude  latitude  accident_year_y  age_of_driver  engine_capacity_cc  \\\n",
       "0  -0.625563  0.725562        -1.102772      -1.007048           -1.001778   \n",
       "1   0.837839 -0.753235         1.410843      -1.007048           -2.546855   \n",
       "2  -0.398387  1.858589         1.410843      -1.007048           -2.545089   \n",
       "3  -0.634696  1.049586        -1.102772      -0.733183           -1.003544   \n",
       "4   0.759571 -0.673980         0.154036      -1.929278           -2.575108   \n",
       "\n",
       "   age_of_vehicle  Heavy  Cargo Vehicle  Heavy Passenger Vehicle  Two-wheeler  \\\n",
       "0        0.717615             -0.261002                -0.036962     3.372238   \n",
       "1       -0.732592             -0.261002                -0.036962     3.372238   \n",
       "2       -2.562549             -0.261002                -0.036962     3.372238   \n",
       "3        0.602757             -0.261002                -0.036962    -0.296539   \n",
       "4       -1.112342             -0.261002                -0.036962     3.372238   \n",
       "\n",
       "       Male  ...       4.0       5.0       6.0       7.0       8.0       9.0  \\\n",
       "0  0.735583  ... -0.352484 -0.343413 -0.336184  3.096138 -0.314126 -0.303664   \n",
       "1  0.735583  ... -0.352484  2.911943 -0.336184 -0.322983 -0.314126 -0.303664   \n",
       "2  0.735583  ...  2.837011 -0.343413 -0.336184 -0.322983 -0.314126 -0.303664   \n",
       "3 -1.359465  ... -0.352484 -0.343413 -0.336184 -0.322983 -0.314126 -0.303664   \n",
       "4  0.735583  ... -0.352484 -0.343413 -0.336184 -0.322983  3.183436 -0.303664   \n",
       "\n",
       "       10.0  Small town  Urban area  accident_severity  \n",
       "0 -0.281985   -0.321136    0.526332            Serious  \n",
       "1 -0.281985   -0.321136    0.526332             Slight  \n",
       "2 -0.281985   -0.321136    0.526332            Serious  \n",
       "3 -0.281985   -0.321136    0.526332             Slight  \n",
       "4 -0.281985   -0.321136    0.526332            Serious  \n",
       "\n",
       "[5 rows x 30 columns]"
      ]
     },
     "execution_count": 9,
     "metadata": {},
     "output_type": "execute_result"
    }
   ],
   "source": [
    "from sklearn.preprocessing import StandardScaler\n",
    "\n",
    "scaler = StandardScaler()\n",
    "\n",
    "# take the target variable out before scaling\n",
    "trainset_target = trainset[\"accident_severity\"].values\n",
    "trainset_predictors = trainset.drop(\"accident_severity\", axis=1)\n",
    "\n",
    "# fit_transform returns a NumPy array, so we need to put it back \n",
    "# into a Pandas dataframe\n",
    "scaled_vals = scaler.fit_transform(trainset_predictors)\n",
    "trainset = pd.DataFrame(scaled_vals, columns=trainset_predictors.columns)\n",
    "\n",
    "# put the non-scaled target back in\n",
    "trainset['accident_severity'] = trainset_target\n",
    "\n",
    "# inspect the data\n",
    "trainset.head()"
   ]
  },
  {
   "cell_type": "markdown",
   "id": "6d5b8aed",
   "metadata": {},
   "source": [
    "Performing the scaling for testing dataset"
   ]
  },
  {
   "cell_type": "code",
   "execution_count": 10,
   "id": "8bea8f30",
   "metadata": {},
   "outputs": [],
   "source": [
    "testset_target = testset[\"accident_severity\"].values\n",
    "testset_predictors = testset.drop(\"accident_severity\", axis=1)\n",
    "\n",
    "scaled_vals = scaler.transform(testset_predictors)\n",
    "testset = pd.DataFrame(scaled_vals, columns=testset_predictors.columns)\n",
    "\n",
    "# put the non-scaled target back in\n",
    "testset['accident_severity'] = testset_target"
   ]
  },
  {
   "cell_type": "markdown",
   "id": "c2a5f423",
   "metadata": {},
   "source": [
    "## Training model"
   ]
  },
  {
   "cell_type": "markdown",
   "id": "a11d7a5f",
   "metadata": {},
   "source": [
    "## Baseline"
   ]
  },
  {
   "cell_type": "code",
   "execution_count": 11,
   "id": "baa958d3",
   "metadata": {},
   "outputs": [
    {
     "data": {
      "text/plain": [
       "Slight     329526\n",
       "Serious     85378\n",
       "Fatal        8020\n",
       "Name: accident_severity, dtype: int64"
      ]
     },
     "execution_count": 11,
     "metadata": {},
     "output_type": "execute_result"
    }
   ],
   "source": [
    "# the number of instances belonging to each class\n",
    "trainset[\"accident_severity\"].value_counts()"
   ]
  },
  {
   "cell_type": "code",
   "execution_count": 12,
   "id": "cf0c7abb",
   "metadata": {},
   "outputs": [
    {
     "data": {
      "text/plain": [
       "422924"
      ]
     },
     "execution_count": 12,
     "metadata": {},
     "output_type": "execute_result"
    }
   ],
   "source": [
    "# total size of the training set\n",
    "trainset.shape[0]"
   ]
  },
  {
   "cell_type": "markdown",
   "id": "4093e7f5",
   "metadata": {},
   "source": [
    "The baseline classifier will output \"Slight\" for all predictions. We will use macro-averaging in this project (precision, recall and F-score are evaluated in each class separately and then averaged across classes).\n",
    "\n",
    "So if we apply the baseline classifier to all of the training set. \n",
    "\n",
    "For the \"Slight\" label, the accuracy measures will be:\n",
    "\n",
    "* Precision: 329639/423063 = 0.779\n",
    "\n",
    "* Recall: 329639/329639 = 1.0\n",
    "\n",
    "* F-score: 2/(1/precision + 1/recall) = 0.877\n",
    "\n",
    "For the \"Serious\" label, it will be:\n",
    "\n",
    "* Precision: 0.0/0.0 = 0.0\n",
    "\n",
    "* Recall: 0.0/85404 = 0.0\n",
    "\n",
    "* F-score: 0.0\n",
    "\n",
    "For the \"Fatal\" label, it will be:\n",
    "\n",
    "* Precision: 0.0/0.0 = 0.0\n",
    "\n",
    "* Recall: 0.0/8020 = 0.0\n",
    "\n",
    "* F-score: 0.0\n",
    "\n",
    "The averages of the two classes, i.e. the eventual baseline scores:\n",
    "\n",
    "* **Precision: 0.26**\n",
    "\n",
    "* **Recall: 0.33**\n",
    "\n",
    "* **F-score: 0.29**"
   ]
  },
  {
   "cell_type": "code",
   "execution_count": 13,
   "id": "6aaf6c2e",
   "metadata": {},
   "outputs": [],
   "source": [
    "baseline_score = 0.29"
   ]
  },
  {
   "cell_type": "markdown",
   "id": "6fff0fcb",
   "metadata": {},
   "source": [
    "# Feature selection"
   ]
  },
  {
   "cell_type": "markdown",
   "id": "cf054344",
   "metadata": {},
   "source": [
    "## Using Random Forest to understand feature importance"
   ]
  },
  {
   "cell_type": "markdown",
   "id": "e4dd77ef",
   "metadata": {},
   "source": [
    "Using gridsearch algorithm for hyperparameter tuning to select the best hyperparameters, which iteratively runs all possible combinations and recommends the best possible"
   ]
  },
  {
   "cell_type": "markdown",
   "id": "cf56f9f5",
   "metadata": {},
   "source": [
    "#### Defining the Xtrain and ytrain for model input"
   ]
  },
  {
   "cell_type": "code",
   "execution_count": 14,
   "id": "14907bd5",
   "metadata": {},
   "outputs": [],
   "source": [
    "# drop labels for training set, but keep all others\n",
    "Xtrain = trainset.drop(\"accident_severity\", axis=1)\n",
    "\n",
    "ytrain = trainset[\"accident_severity\"].copy()"
   ]
  },
  {
   "cell_type": "markdown",
   "id": "609d20ac",
   "metadata": {},
   "source": [
    "#### Defining Xtest and ytest for model input"
   ]
  },
  {
   "cell_type": "code",
   "execution_count": 15,
   "id": "b18f1a9b",
   "metadata": {},
   "outputs": [],
   "source": [
    "# drop labels for training set, but keep all others\n",
    "Xtest = testset.drop(\"accident_severity\", axis=1)\n",
    "ytest = testset[\"accident_severity\"].copy()"
   ]
  },
  {
   "cell_type": "code",
   "execution_count": 31,
   "id": "b721a4f1",
   "metadata": {
    "scrolled": true
   },
   "outputs": [],
   "source": [
    "cols_to_keep = ['longitude','latitude','Two-wheeler', 'engine_capacity_cc', 'Urban area', 'age_of_driver', 'Male', 'age_of_vehicle', 'Elderly', 'Small town', 'accident_severity']\n",
    "\n",
    "for col in testset.columns:\n",
    "    if col not in cols_to_keep:\n",
    "        testset.drop(columns=col, inplace=True)"
   ]
  },
  {
   "cell_type": "code",
   "execution_count": 17,
   "id": "2bec1a90",
   "metadata": {},
   "outputs": [
    {
     "name": "stderr",
     "output_type": "stream",
     "text": [
      "Intel(R) Extension for Scikit-learn* enabled (https://github.com/intel/scikit-learn-intelex)\n"
     ]
    }
   ],
   "source": [
    "from sklearnex import patch_sklearn\n",
    "patch_sklearn()"
   ]
  },
  {
   "cell_type": "code",
   "execution_count": 18,
   "id": "eb00d159",
   "metadata": {},
   "outputs": [
    {
     "name": "stdout",
     "output_type": "stream",
     "text": [
      "Took 660.2020349502563 seconds\n"
     ]
    }
   ],
   "source": [
    "from sklearn.ensemble import RandomForestClassifier\n",
    "from sklearn.model_selection import GridSearchCV\n",
    "\n",
    "rf = RandomForestClassifier(random_state=7)\n",
    "\n",
    "# specify the hyperparameters and their values\n",
    "# 4 x 3 x 2 = 24 combinations in the grid\n",
    "param_grid = {\n",
    "    'n_estimators': [10, 100, 200, 300],\n",
    "    'max_depth': [3, 5, 15],\n",
    "    'min_samples_split': [5, 10]\n",
    "}\n",
    "\n",
    "# we'll use 5-fold cross-validation\n",
    "grid_search = GridSearchCV(rf, param_grid, cv=5,\n",
    "                           scoring='f1_macro', \n",
    "                           return_train_score=True,\n",
    "                          n_jobs = -1) \n",
    "\n",
    "start = time.time()\n",
    "grid_search.fit(Xtrain, ytrain)\n",
    "end = time.time() - start\n",
    "print(f\"Took {end} seconds\")"
   ]
  },
  {
   "cell_type": "code",
   "execution_count": 19,
   "id": "a46003c0",
   "metadata": {},
   "outputs": [
    {
     "data": {
      "text/plain": [
       "RandomForestClassifier(max_depth=15, min_samples_split=5, n_estimators=10,\n",
       "                       random_state=7)"
      ]
     },
     "execution_count": 19,
     "metadata": {},
     "output_type": "execute_result"
    }
   ],
   "source": [
    "rdf_initial = grid_search.best_estimator_\n",
    "rdf_initial"
   ]
  },
  {
   "cell_type": "code",
   "execution_count": 20,
   "id": "d6e06898",
   "metadata": {},
   "outputs": [
    {
     "data": {
      "text/plain": [
       "0.3325532871422376"
      ]
     },
     "execution_count": 20,
     "metadata": {},
     "output_type": "execute_result"
    }
   ],
   "source": [
    "grid_search.best_score_"
   ]
  },
  {
   "cell_type": "code",
   "execution_count": 21,
   "id": "50470c37",
   "metadata": {},
   "outputs": [
    {
     "data": {
      "text/plain": [
       "16"
      ]
     },
     "execution_count": 21,
     "metadata": {},
     "output_type": "execute_result"
    }
   ],
   "source": [
    "best_model_index = grid_search.cv_results_[\"rank_test_score\"].tolist().index(1)\n",
    "best_model_index"
   ]
  },
  {
   "cell_type": "code",
   "execution_count": 22,
   "id": "aed30498",
   "metadata": {},
   "outputs": [],
   "source": [
    "rf_split_test_scores = []\n",
    "for x in range(5):\n",
    "    # extract f-score of the best model (index='best_model_index') from each of the 5 splits\n",
    "    val = grid_search.cv_results_[f\"split{x}_test_score\"][best_model_index]\n",
    "    rf_split_test_scores.append(val)"
   ]
  },
  {
   "cell_type": "code",
   "execution_count": 23,
   "id": "ff5b56e1",
   "metadata": {},
   "outputs": [
    {
     "data": {
      "text/html": [
       "<div>\n",
       "<style scoped>\n",
       "    .dataframe tbody tr th:only-of-type {\n",
       "        vertical-align: middle;\n",
       "    }\n",
       "\n",
       "    .dataframe tbody tr th {\n",
       "        vertical-align: top;\n",
       "    }\n",
       "\n",
       "    .dataframe thead th {\n",
       "        text-align: right;\n",
       "    }\n",
       "</style>\n",
       "<table border=\"1\" class=\"dataframe\">\n",
       "  <thead>\n",
       "    <tr style=\"text-align: right;\">\n",
       "      <th></th>\n",
       "      <th>params</th>\n",
       "      <th>mean_train_score</th>\n",
       "      <th>mean_test_score</th>\n",
       "      <th>diff, %</th>\n",
       "    </tr>\n",
       "  </thead>\n",
       "  <tbody>\n",
       "    <tr>\n",
       "      <th>16</th>\n",
       "      <td>{'max_depth': 15, 'min_samples_split': 5, 'n_estimators': 10}</td>\n",
       "      <td>0.366051</td>\n",
       "      <td>0.332553</td>\n",
       "      <td>9.151186e+00</td>\n",
       "    </tr>\n",
       "    <tr>\n",
       "      <th>20</th>\n",
       "      <td>{'max_depth': 15, 'min_samples_split': 10, 'n_estimators': 10}</td>\n",
       "      <td>0.354068</td>\n",
       "      <td>0.327434</td>\n",
       "      <td>7.522344e+00</td>\n",
       "    </tr>\n",
       "    <tr>\n",
       "      <th>17</th>\n",
       "      <td>{'max_depth': 15, 'min_samples_split': 5, 'n_estimators': 100}</td>\n",
       "      <td>0.356360</td>\n",
       "      <td>0.325544</td>\n",
       "      <td>8.647456e+00</td>\n",
       "    </tr>\n",
       "    <tr>\n",
       "      <th>18</th>\n",
       "      <td>{'max_depth': 15, 'min_samples_split': 5, 'n_estimators': 200}</td>\n",
       "      <td>0.356332</td>\n",
       "      <td>0.325211</td>\n",
       "      <td>8.733904e+00</td>\n",
       "    </tr>\n",
       "    <tr>\n",
       "      <th>19</th>\n",
       "      <td>{'max_depth': 15, 'min_samples_split': 5, 'n_estimators': 300}</td>\n",
       "      <td>0.356175</td>\n",
       "      <td>0.325185</td>\n",
       "      <td>8.700916e+00</td>\n",
       "    </tr>\n",
       "    <tr>\n",
       "      <th>21</th>\n",
       "      <td>{'max_depth': 15, 'min_samples_split': 10, 'n_estimators': 100}</td>\n",
       "      <td>0.348173</td>\n",
       "      <td>0.322290</td>\n",
       "      <td>7.434040e+00</td>\n",
       "    </tr>\n",
       "    <tr>\n",
       "      <th>22</th>\n",
       "      <td>{'max_depth': 15, 'min_samples_split': 10, 'n_estimators': 200}</td>\n",
       "      <td>0.347833</td>\n",
       "      <td>0.322148</td>\n",
       "      <td>7.384386e+00</td>\n",
       "    </tr>\n",
       "    <tr>\n",
       "      <th>23</th>\n",
       "      <td>{'max_depth': 15, 'min_samples_split': 10, 'n_estimators': 300}</td>\n",
       "      <td>0.347061</td>\n",
       "      <td>0.321507</td>\n",
       "      <td>7.362943e+00</td>\n",
       "    </tr>\n",
       "    <tr>\n",
       "      <th>12</th>\n",
       "      <td>{'max_depth': 5, 'min_samples_split': 10, 'n_estimators': 10}</td>\n",
       "      <td>0.292583</td>\n",
       "      <td>0.292465</td>\n",
       "      <td>4.026397e-02</td>\n",
       "    </tr>\n",
       "    <tr>\n",
       "      <th>8</th>\n",
       "      <td>{'max_depth': 5, 'min_samples_split': 5, 'n_estimators': 10}</td>\n",
       "      <td>0.292588</td>\n",
       "      <td>0.292457</td>\n",
       "      <td>4.484860e-02</td>\n",
       "    </tr>\n",
       "    <tr>\n",
       "      <th>10</th>\n",
       "      <td>{'max_depth': 5, 'min_samples_split': 5, 'n_estimators': 200}</td>\n",
       "      <td>0.292072</td>\n",
       "      <td>0.292064</td>\n",
       "      <td>2.762819e-03</td>\n",
       "    </tr>\n",
       "    <tr>\n",
       "      <th>14</th>\n",
       "      <td>{'max_depth': 5, 'min_samples_split': 10, 'n_estimators': 200}</td>\n",
       "      <td>0.292078</td>\n",
       "      <td>0.292064</td>\n",
       "      <td>4.909256e-03</td>\n",
       "    </tr>\n",
       "    <tr>\n",
       "      <th>9</th>\n",
       "      <td>{'max_depth': 5, 'min_samples_split': 5, 'n_estimators': 100}</td>\n",
       "      <td>0.292060</td>\n",
       "      <td>0.292048</td>\n",
       "      <td>3.950035e-03</td>\n",
       "    </tr>\n",
       "    <tr>\n",
       "      <th>13</th>\n",
       "      <td>{'max_depth': 5, 'min_samples_split': 10, 'n_estimators': 100}</td>\n",
       "      <td>0.292074</td>\n",
       "      <td>0.292048</td>\n",
       "      <td>8.985137e-03</td>\n",
       "    </tr>\n",
       "    <tr>\n",
       "      <th>11</th>\n",
       "      <td>{'max_depth': 5, 'min_samples_split': 5, 'n_estimators': 300}</td>\n",
       "      <td>0.292060</td>\n",
       "      <td>0.292023</td>\n",
       "      <td>1.275463e-02</td>\n",
       "    </tr>\n",
       "    <tr>\n",
       "      <th>15</th>\n",
       "      <td>{'max_depth': 5, 'min_samples_split': 10, 'n_estimators': 300}</td>\n",
       "      <td>0.292060</td>\n",
       "      <td>0.292023</td>\n",
       "      <td>1.275453e-02</td>\n",
       "    </tr>\n",
       "    <tr>\n",
       "      <th>1</th>\n",
       "      <td>{'max_depth': 3, 'min_samples_split': 5, 'n_estimators': 100}</td>\n",
       "      <td>0.291958</td>\n",
       "      <td>0.291958</td>\n",
       "      <td>2.346252e-10</td>\n",
       "    </tr>\n",
       "    <tr>\n",
       "      <th>7</th>\n",
       "      <td>{'max_depth': 3, 'min_samples_split': 10, 'n_estimators': 300}</td>\n",
       "      <td>0.291958</td>\n",
       "      <td>0.291958</td>\n",
       "      <td>2.346252e-10</td>\n",
       "    </tr>\n",
       "    <tr>\n",
       "      <th>6</th>\n",
       "      <td>{'max_depth': 3, 'min_samples_split': 10, 'n_estimators': 200}</td>\n",
       "      <td>0.291958</td>\n",
       "      <td>0.291958</td>\n",
       "      <td>2.346252e-10</td>\n",
       "    </tr>\n",
       "    <tr>\n",
       "      <th>5</th>\n",
       "      <td>{'max_depth': 3, 'min_samples_split': 10, 'n_estimators': 100}</td>\n",
       "      <td>0.291958</td>\n",
       "      <td>0.291958</td>\n",
       "      <td>2.346252e-10</td>\n",
       "    </tr>\n",
       "    <tr>\n",
       "      <th>4</th>\n",
       "      <td>{'max_depth': 3, 'min_samples_split': 10, 'n_estimators': 10}</td>\n",
       "      <td>0.291958</td>\n",
       "      <td>0.291958</td>\n",
       "      <td>2.346252e-10</td>\n",
       "    </tr>\n",
       "    <tr>\n",
       "      <th>3</th>\n",
       "      <td>{'max_depth': 3, 'min_samples_split': 5, 'n_estimators': 300}</td>\n",
       "      <td>0.291958</td>\n",
       "      <td>0.291958</td>\n",
       "      <td>2.346252e-10</td>\n",
       "    </tr>\n",
       "    <tr>\n",
       "      <th>2</th>\n",
       "      <td>{'max_depth': 3, 'min_samples_split': 5, 'n_estimators': 200}</td>\n",
       "      <td>0.291958</td>\n",
       "      <td>0.291958</td>\n",
       "      <td>2.346252e-10</td>\n",
       "    </tr>\n",
       "    <tr>\n",
       "      <th>0</th>\n",
       "      <td>{'max_depth': 3, 'min_samples_split': 5, 'n_estimators': 10}</td>\n",
       "      <td>0.291958</td>\n",
       "      <td>0.291958</td>\n",
       "      <td>2.346252e-10</td>\n",
       "    </tr>\n",
       "  </tbody>\n",
       "</table>\n",
       "</div>"
      ],
      "text/plain": [
       "                                                             params  \\\n",
       "16    {'max_depth': 15, 'min_samples_split': 5, 'n_estimators': 10}   \n",
       "20   {'max_depth': 15, 'min_samples_split': 10, 'n_estimators': 10}   \n",
       "17   {'max_depth': 15, 'min_samples_split': 5, 'n_estimators': 100}   \n",
       "18   {'max_depth': 15, 'min_samples_split': 5, 'n_estimators': 200}   \n",
       "19   {'max_depth': 15, 'min_samples_split': 5, 'n_estimators': 300}   \n",
       "21  {'max_depth': 15, 'min_samples_split': 10, 'n_estimators': 100}   \n",
       "22  {'max_depth': 15, 'min_samples_split': 10, 'n_estimators': 200}   \n",
       "23  {'max_depth': 15, 'min_samples_split': 10, 'n_estimators': 300}   \n",
       "12    {'max_depth': 5, 'min_samples_split': 10, 'n_estimators': 10}   \n",
       "8      {'max_depth': 5, 'min_samples_split': 5, 'n_estimators': 10}   \n",
       "10    {'max_depth': 5, 'min_samples_split': 5, 'n_estimators': 200}   \n",
       "14   {'max_depth': 5, 'min_samples_split': 10, 'n_estimators': 200}   \n",
       "9     {'max_depth': 5, 'min_samples_split': 5, 'n_estimators': 100}   \n",
       "13   {'max_depth': 5, 'min_samples_split': 10, 'n_estimators': 100}   \n",
       "11    {'max_depth': 5, 'min_samples_split': 5, 'n_estimators': 300}   \n",
       "15   {'max_depth': 5, 'min_samples_split': 10, 'n_estimators': 300}   \n",
       "1     {'max_depth': 3, 'min_samples_split': 5, 'n_estimators': 100}   \n",
       "7    {'max_depth': 3, 'min_samples_split': 10, 'n_estimators': 300}   \n",
       "6    {'max_depth': 3, 'min_samples_split': 10, 'n_estimators': 200}   \n",
       "5    {'max_depth': 3, 'min_samples_split': 10, 'n_estimators': 100}   \n",
       "4     {'max_depth': 3, 'min_samples_split': 10, 'n_estimators': 10}   \n",
       "3     {'max_depth': 3, 'min_samples_split': 5, 'n_estimators': 300}   \n",
       "2     {'max_depth': 3, 'min_samples_split': 5, 'n_estimators': 200}   \n",
       "0      {'max_depth': 3, 'min_samples_split': 5, 'n_estimators': 10}   \n",
       "\n",
       "    mean_train_score  mean_test_score       diff, %  \n",
       "16          0.366051         0.332553  9.151186e+00  \n",
       "20          0.354068         0.327434  7.522344e+00  \n",
       "17          0.356360         0.325544  8.647456e+00  \n",
       "18          0.356332         0.325211  8.733904e+00  \n",
       "19          0.356175         0.325185  8.700916e+00  \n",
       "21          0.348173         0.322290  7.434040e+00  \n",
       "22          0.347833         0.322148  7.384386e+00  \n",
       "23          0.347061         0.321507  7.362943e+00  \n",
       "12          0.292583         0.292465  4.026397e-02  \n",
       "8           0.292588         0.292457  4.484860e-02  \n",
       "10          0.292072         0.292064  2.762819e-03  \n",
       "14          0.292078         0.292064  4.909256e-03  \n",
       "9           0.292060         0.292048  3.950035e-03  \n",
       "13          0.292074         0.292048  8.985137e-03  \n",
       "11          0.292060         0.292023  1.275463e-02  \n",
       "15          0.292060         0.292023  1.275453e-02  \n",
       "1           0.291958         0.291958  2.346252e-10  \n",
       "7           0.291958         0.291958  2.346252e-10  \n",
       "6           0.291958         0.291958  2.346252e-10  \n",
       "5           0.291958         0.291958  2.346252e-10  \n",
       "4           0.291958         0.291958  2.346252e-10  \n",
       "3           0.291958         0.291958  2.346252e-10  \n",
       "2           0.291958         0.291958  2.346252e-10  \n",
       "0           0.291958         0.291958  2.346252e-10  "
      ]
     },
     "execution_count": 23,
     "metadata": {},
     "output_type": "execute_result"
    }
   ],
   "source": [
    "cv_results = pd.DataFrame(grid_search.cv_results_)[['params', 'mean_train_score', 'mean_test_score']]\n",
    "cv_results[\"diff, %\"] = 100*(cv_results[\"mean_train_score\"]-cv_results[\"mean_test_score\"]\n",
    "                                                     )/cv_results[\"mean_train_score\"]\n",
    "\n",
    "pd.set_option('display.max_colwidth', 100)\n",
    "cv_results.sort_values('mean_test_score', ascending=False)"
   ]
  },
  {
   "cell_type": "markdown",
   "id": "44a4d0fc",
   "metadata": {},
   "source": [
    "Obtaining feature importance as part of the output from random forest model 1"
   ]
  },
  {
   "cell_type": "code",
   "execution_count": 24,
   "id": "b4f98683",
   "metadata": {},
   "outputs": [
    {
     "name": "stdout",
     "output_type": "stream",
     "text": [
      "latitude: 0.18661628268288646\n",
      "longitude: 0.14814989404155765\n",
      "engine_capacity_cc: 0.1296582007090638\n",
      "age_of_driver: 0.11196935950584558\n",
      "age_of_vehicle: 0.09230472487868742\n",
      "Two-wheeler: 0.08081674550670227\n",
      "Urban area: 0.03283117446418796\n",
      "accident_year_y: 0.032074939277844085\n",
      "Male: 0.027399062940904287\n",
      "Elderly: 0.012236053626281879\n",
      "Small town: 0.011752116542676612\n",
      "9.0: 0.010779130039902824\n",
      "10.0: 0.010444956499124303\n",
      "4.0: 0.010130776011493696\n",
      "3.0: 0.010075487755035114\n",
      "8.0: 0.009999348422506335\n",
      "6.0: 0.009961707087657553\n",
      "5.0: 0.009897283836718685\n",
      "7.0: 0.009580374954982356\n",
      "Petrol: 0.009247334626812808\n",
      "2.0: 0.00879203436897004\n",
      "Young Adult: 0.008650820250226248\n",
      "Heavy oil: 0.008269652564258961\n",
      "Heavy  Cargo Vehicle: 0.006477310805790395\n",
      "Teen: 0.006305435747258701\n",
      "Heavy Passenger Vehicle: 0.0028340848876620404\n",
      "Not Known: 0.0018593275573753234\n",
      "Others: 0.0007696943500193135\n",
      "Child: 0.00011668605756714788\n"
     ]
    }
   ],
   "source": [
    "# put them into a separate variable for convenience\n",
    "feature_importances = grid_search.best_estimator_.feature_importances_\n",
    "\n",
    "# the order of the features in `feature_importances` is the same as in the Xtrain dataframe,\n",
    "# so we can \"zip\" the two and print in the descending order:\n",
    "\n",
    "for k, v in sorted(zip(feature_importances, Xtrain.columns), reverse=True):\n",
    "    print(f\"{v}: {k}\")"
   ]
  },
  {
   "cell_type": "code",
   "execution_count": 25,
   "id": "97116c40",
   "metadata": {},
   "outputs": [
    {
     "data": {
      "text/plain": [
       "['models/rdf-init.joblib']"
      ]
     },
     "execution_count": 25,
     "metadata": {},
     "output_type": "execute_result"
    }
   ],
   "source": [
    "# Saving the created model for further analysis\n",
    "import os\n",
    "from joblib import dump\n",
    "\n",
    "# create a folder where all trained models will be kept\n",
    "if not os.path.exists(\"models\"):\n",
    "    os.makedirs(\"models\")\n",
    "    \n",
    "dump(rdf_initial, 'models/rdf-init.joblib')"
   ]
  },
  {
   "cell_type": "markdown",
   "id": "c94cf9eb",
   "metadata": {},
   "source": [
    "Based on the random forest importance score, we choose the best 11 in the hopes of improving the model performance"
   ]
  },
  {
   "cell_type": "markdown",
   "id": "0832713e",
   "metadata": {},
   "source": [
    "1. Longitude\n",
    "2. Latitude\n",
    "3. Engine capacity in cc\n",
    "4. Age of driver\n",
    "5. Age of vehicle\n",
    "6. Two-wheeler\n",
    "7. Urban area\n",
    "8. Male\n",
    "9. Elderly\n",
    "10. Small town"
   ]
  },
  {
   "cell_type": "code",
   "execution_count": 26,
   "id": "5c5bdf50",
   "metadata": {},
   "outputs": [
    {
     "data": {
      "text/plain": [
       "Index(['longitude', 'latitude', 'accident_year_y', 'age_of_driver',\n",
       "       'engine_capacity_cc', 'age_of_vehicle', 'Heavy  Cargo Vehicle',\n",
       "       'Heavy Passenger Vehicle', 'Two-wheeler', 'Male', 'Not Known', 'Child',\n",
       "       'Elderly', 'Teen', 'Young Adult', 'Heavy oil', 'Others', 'Petrol',\n",
       "       '2.0', '3.0', '4.0', '5.0', '6.0', '7.0', '8.0', '9.0', '10.0',\n",
       "       'Small town', 'Urban area', 'accident_severity'],\n",
       "      dtype='object')"
      ]
     },
     "execution_count": 26,
     "metadata": {},
     "output_type": "execute_result"
    }
   ],
   "source": [
    "#cols_to_keep = []\n",
    "trainset.columns"
   ]
  },
  {
   "cell_type": "code",
   "execution_count": 32,
   "id": "071ef6f0",
   "metadata": {},
   "outputs": [],
   "source": [
    "cols_to_keep = ['longitude','latitude','Two-wheeler', 'engine_capacity_cc', 'Urban area', 'age_of_driver', 'Male', 'age_of_vehicle', 'Elderly', 'Small town', 'accident_severity']\n",
    "\n",
    "for col in trainset.columns:\n",
    "    #Iterative loop to go through all columns and retain those which are selected through feature importance\n",
    "    if col not in cols_to_keep:\n",
    "        trainset.drop(columns=col, inplace=True)"
   ]
  },
  {
   "cell_type": "code",
   "execution_count": 34,
   "id": "b50815e1",
   "metadata": {
    "scrolled": false
   },
   "outputs": [
    {
     "data": {
      "text/html": [
       "<div>\n",
       "<style scoped>\n",
       "    .dataframe tbody tr th:only-of-type {\n",
       "        vertical-align: middle;\n",
       "    }\n",
       "\n",
       "    .dataframe tbody tr th {\n",
       "        vertical-align: top;\n",
       "    }\n",
       "\n",
       "    .dataframe thead th {\n",
       "        text-align: right;\n",
       "    }\n",
       "</style>\n",
       "<table border=\"1\" class=\"dataframe\">\n",
       "  <thead>\n",
       "    <tr style=\"text-align: right;\">\n",
       "      <th></th>\n",
       "      <th>longitude</th>\n",
       "      <th>latitude</th>\n",
       "      <th>age_of_driver</th>\n",
       "      <th>engine_capacity_cc</th>\n",
       "      <th>age_of_vehicle</th>\n",
       "      <th>Two-wheeler</th>\n",
       "      <th>Male</th>\n",
       "      <th>Elderly</th>\n",
       "      <th>Small town</th>\n",
       "      <th>Urban area</th>\n",
       "      <th>accident_severity</th>\n",
       "    </tr>\n",
       "  </thead>\n",
       "  <tbody>\n",
       "    <tr>\n",
       "      <th>0</th>\n",
       "      <td>-0.625563</td>\n",
       "      <td>0.725562</td>\n",
       "      <td>-1.007048</td>\n",
       "      <td>-1.001778</td>\n",
       "      <td>0.717615</td>\n",
       "      <td>3.372238</td>\n",
       "      <td>0.735583</td>\n",
       "      <td>-0.32497</td>\n",
       "      <td>-0.321136</td>\n",
       "      <td>0.526332</td>\n",
       "      <td>Serious</td>\n",
       "    </tr>\n",
       "    <tr>\n",
       "      <th>1</th>\n",
       "      <td>0.837839</td>\n",
       "      <td>-0.753235</td>\n",
       "      <td>-1.007048</td>\n",
       "      <td>-2.546855</td>\n",
       "      <td>-0.732592</td>\n",
       "      <td>3.372238</td>\n",
       "      <td>0.735583</td>\n",
       "      <td>-0.32497</td>\n",
       "      <td>-0.321136</td>\n",
       "      <td>0.526332</td>\n",
       "      <td>Slight</td>\n",
       "    </tr>\n",
       "    <tr>\n",
       "      <th>2</th>\n",
       "      <td>-0.398387</td>\n",
       "      <td>1.858589</td>\n",
       "      <td>-1.007048</td>\n",
       "      <td>-2.545089</td>\n",
       "      <td>-2.562549</td>\n",
       "      <td>3.372238</td>\n",
       "      <td>0.735583</td>\n",
       "      <td>-0.32497</td>\n",
       "      <td>-0.321136</td>\n",
       "      <td>0.526332</td>\n",
       "      <td>Serious</td>\n",
       "    </tr>\n",
       "    <tr>\n",
       "      <th>3</th>\n",
       "      <td>-0.634696</td>\n",
       "      <td>1.049586</td>\n",
       "      <td>-0.733183</td>\n",
       "      <td>-1.003544</td>\n",
       "      <td>0.602757</td>\n",
       "      <td>-0.296539</td>\n",
       "      <td>-1.359465</td>\n",
       "      <td>-0.32497</td>\n",
       "      <td>-0.321136</td>\n",
       "      <td>0.526332</td>\n",
       "      <td>Slight</td>\n",
       "    </tr>\n",
       "    <tr>\n",
       "      <th>4</th>\n",
       "      <td>0.759571</td>\n",
       "      <td>-0.673980</td>\n",
       "      <td>-1.929278</td>\n",
       "      <td>-2.575108</td>\n",
       "      <td>-1.112342</td>\n",
       "      <td>3.372238</td>\n",
       "      <td>0.735583</td>\n",
       "      <td>-0.32497</td>\n",
       "      <td>-0.321136</td>\n",
       "      <td>0.526332</td>\n",
       "      <td>Serious</td>\n",
       "    </tr>\n",
       "  </tbody>\n",
       "</table>\n",
       "</div>"
      ],
      "text/plain": [
       "   longitude  latitude  age_of_driver  engine_capacity_cc  age_of_vehicle  \\\n",
       "0  -0.625563  0.725562      -1.007048           -1.001778        0.717615   \n",
       "1   0.837839 -0.753235      -1.007048           -2.546855       -0.732592   \n",
       "2  -0.398387  1.858589      -1.007048           -2.545089       -2.562549   \n",
       "3  -0.634696  1.049586      -0.733183           -1.003544        0.602757   \n",
       "4   0.759571 -0.673980      -1.929278           -2.575108       -1.112342   \n",
       "\n",
       "   Two-wheeler      Male  Elderly  Small town  Urban area accident_severity  \n",
       "0     3.372238  0.735583 -0.32497   -0.321136    0.526332           Serious  \n",
       "1     3.372238  0.735583 -0.32497   -0.321136    0.526332            Slight  \n",
       "2     3.372238  0.735583 -0.32497   -0.321136    0.526332           Serious  \n",
       "3    -0.296539 -1.359465 -0.32497   -0.321136    0.526332            Slight  \n",
       "4     3.372238  0.735583 -0.32497   -0.321136    0.526332           Serious  "
      ]
     },
     "execution_count": 34,
     "metadata": {},
     "output_type": "execute_result"
    }
   ],
   "source": [
    "trainset.head()"
   ]
  },
  {
   "cell_type": "markdown",
   "id": "bc4e0437",
   "metadata": {},
   "source": [
    "## Oversampling for more prediction accuracy for imbalanced data"
   ]
  },
  {
   "cell_type": "markdown",
   "id": "2d2f27f9",
   "metadata": {},
   "source": [
    "Here we observe and acknowledge the presence of a big imbalance between the categories of the data, i.e, majority category in our data is Slight which covers upto 78% of the data, next is Serious category with 20% data and finally we have Fatal which has only 2% of the data. Hence as we can observe there is a need for ensuring the model has sufficient data to learn from so that the categories are not wrongly assigned. To tackle this we use oversampling which reproduces the same data to assigned number of times so that model has sufficient data to learn from"
   ]
  },
  {
   "cell_type": "code",
   "execution_count": 35,
   "id": "0035ec2d",
   "metadata": {},
   "outputs": [],
   "source": [
    "from collections import Counter\n",
    "from imblearn.over_sampling import RandomOverSampler\n",
    "from imblearn.under_sampling import RandomUnderSampler\n",
    "# define oversampling strategy\n",
    "over = RandomOverSampler(sampling_strategy={\"Slight\":329526, 'Serious': 100000, 'Fatal': 100000})\n",
    "# fit and apply the transform\n",
    "Xtrain, ytrain = over.fit_resample(Xtrain, ytrain)"
   ]
  },
  {
   "cell_type": "markdown",
   "id": "ed8f8266",
   "metadata": {},
   "source": [
    "## Model 1 - Logistic Regression - Multinomial"
   ]
  },
  {
   "cell_type": "markdown",
   "id": "440c5455",
   "metadata": {},
   "source": [
    "Logistic regression can be used for classification problems where it predicts the probability of the occurence of a category based on various predictor variables using the odds ratio and logit function"
   ]
  },
  {
   "cell_type": "markdown",
   "id": "4d5d920d",
   "metadata": {},
   "source": [
    "### Algorithm definition and hyperparameter tuning using random grid search"
   ]
  },
  {
   "cell_type": "code",
   "execution_count": 50,
   "id": "eb011d43",
   "metadata": {},
   "outputs": [
    {
     "name": "stderr",
     "output_type": "stream",
     "text": [
      "C:\\ProgramData\\Anaconda3\\lib\\site-packages\\sklearn\\model_selection\\_search.py:922: UserWarning: One or more of the test scores are non-finite: [       nan        nan        nan 0.3126744  0.31264416 0.31264231\n",
      "        nan        nan        nan        nan]\n",
      "  warnings.warn(\n",
      "C:\\ProgramData\\Anaconda3\\lib\\site-packages\\sklearn\\model_selection\\_search.py:922: UserWarning: One or more of the train scores are non-finite: [       nan        nan        nan 0.31272743 0.31269375 0.31268813\n",
      "        nan        nan        nan        nan]\n",
      "  warnings.warn(\n"
     ]
    },
    {
     "name": "stdout",
     "output_type": "stream",
     "text": [
      "Took 109.44863295555115 seconds\n"
     ]
    },
    {
     "name": "stderr",
     "output_type": "stream",
     "text": [
      "C:\\ProgramData\\Anaconda3\\lib\\site-packages\\sklearn\\linear_model\\_sag.py:328: ConvergenceWarning: The max_iter was reached which means the coef_ did not converge\n",
      "  warnings.warn(\"The max_iter was reached which means \"\n"
     ]
    }
   ],
   "source": [
    "from sklearn.model_selection import RandomizedSearchCV\n",
    "from sklearn.linear_model import LogisticRegression\n",
    "\n",
    "lr = LogisticRegression(random_state=7, multi_class = 'multinomial')\n",
    "\n",
    "# specify the hyperparameters and their values\n",
    "# 4 x 4 = 16 combinations in the grid\n",
    "param_grid = {\n",
    "    'penalty': ['l1', 'l2', 'elasticnet', 'none'],\n",
    "    'solver': ['newton-cg', 'lbfgs', 'sag', 'saga']\n",
    "}\n",
    "\n",
    "# Using 5-fold cross-validation\n",
    "grid_search = RandomizedSearchCV(lr, param_grid, cv=5,\n",
    "                           scoring='f1_macro', \n",
    "                           return_train_score=True,\n",
    "                          n_jobs = -1) \n",
    "\n",
    "start = time.time()\n",
    "grid_search.fit(Xtrain, ytrain)\n",
    "lr_time = time.time() - start\n",
    "print(f\"Took {lr_time} seconds\")"
   ]
  },
  {
   "cell_type": "markdown",
   "id": "b43e1b08",
   "metadata": {},
   "source": [
    "### Summarizing model characteristics"
   ]
  },
  {
   "cell_type": "markdown",
   "id": "6360bab0",
   "metadata": {},
   "source": [
    "This code block shows the best set of hyperparameters that are selected from the input given to the random grid search"
   ]
  },
  {
   "cell_type": "code",
   "execution_count": 51,
   "id": "556577a1",
   "metadata": {},
   "outputs": [
    {
     "data": {
      "text/plain": [
       "LogisticRegression(multi_class='multinomial', random_state=7, solver='saga')"
      ]
     },
     "execution_count": 51,
     "metadata": {},
     "output_type": "execute_result"
    }
   ],
   "source": [
    "lr_Best_Estimate = grid_search.best_estimator_\n",
    "lr_Best_Estimate"
   ]
  },
  {
   "cell_type": "markdown",
   "id": "c87b4693",
   "metadata": {},
   "source": [
    "This score denotes the model score which is obtained post training"
   ]
  },
  {
   "cell_type": "code",
   "execution_count": 52,
   "id": "8b23ae30",
   "metadata": {
    "scrolled": true
   },
   "outputs": [
    {
     "data": {
      "text/plain": [
       "0.31267439562100546"
      ]
     },
     "execution_count": 52,
     "metadata": {},
     "output_type": "execute_result"
    }
   ],
   "source": [
    "lr_grid_score = grid_search.best_score_\n",
    "lr_grid_score"
   ]
  },
  {
   "cell_type": "code",
   "execution_count": 53,
   "id": "28b81d9a",
   "metadata": {},
   "outputs": [
    {
     "data": {
      "text/plain": [
       "3"
      ]
     },
     "execution_count": 53,
     "metadata": {},
     "output_type": "execute_result"
    }
   ],
   "source": [
    "best_model_index = grid_search.cv_results_[\"rank_test_score\"].tolist().index(1)\n",
    "best_model_index"
   ]
  },
  {
   "cell_type": "code",
   "execution_count": 54,
   "id": "aa7f344f",
   "metadata": {},
   "outputs": [],
   "source": [
    "lr_split_test_scores = []\n",
    "for x in range(5):\n",
    "    # extract f-score of the best model (index='best_model_index') from each of the 5 splits\n",
    "    val = grid_search.cv_results_[f\"split{x}_test_score\"][best_model_index]\n",
    "    lr_split_test_scores.append(val)"
   ]
  },
  {
   "cell_type": "markdown",
   "id": "f9a48b9d",
   "metadata": {},
   "source": [
    "### Visualizing the changes of score based on various combinations of hyper parameters"
   ]
  },
  {
   "cell_type": "code",
   "execution_count": 55,
   "id": "a5c7d326",
   "metadata": {
    "scrolled": true
   },
   "outputs": [
    {
     "data": {
      "text/html": [
       "<div>\n",
       "<style scoped>\n",
       "    .dataframe tbody tr th:only-of-type {\n",
       "        vertical-align: middle;\n",
       "    }\n",
       "\n",
       "    .dataframe tbody tr th {\n",
       "        vertical-align: top;\n",
       "    }\n",
       "\n",
       "    .dataframe thead th {\n",
       "        text-align: right;\n",
       "    }\n",
       "</style>\n",
       "<table border=\"1\" class=\"dataframe\">\n",
       "  <thead>\n",
       "    <tr style=\"text-align: right;\">\n",
       "      <th></th>\n",
       "      <th>params</th>\n",
       "      <th>mean_train_score</th>\n",
       "      <th>mean_test_score</th>\n",
       "      <th>diff, %</th>\n",
       "    </tr>\n",
       "  </thead>\n",
       "  <tbody>\n",
       "    <tr>\n",
       "      <th>3</th>\n",
       "      <td>{'solver': 'saga', 'penalty': 'l2'}</td>\n",
       "      <td>0.312727</td>\n",
       "      <td>0.312674</td>\n",
       "      <td>0.016959</td>\n",
       "    </tr>\n",
       "    <tr>\n",
       "      <th>4</th>\n",
       "      <td>{'solver': 'saga', 'penalty': 'l1'}</td>\n",
       "      <td>0.312694</td>\n",
       "      <td>0.312644</td>\n",
       "      <td>0.015861</td>\n",
       "    </tr>\n",
       "    <tr>\n",
       "      <th>5</th>\n",
       "      <td>{'solver': 'lbfgs', 'penalty': 'l2'}</td>\n",
       "      <td>0.312688</td>\n",
       "      <td>0.312642</td>\n",
       "      <td>0.014655</td>\n",
       "    </tr>\n",
       "    <tr>\n",
       "      <th>0</th>\n",
       "      <td>{'solver': 'sag', 'penalty': 'elasticnet'}</td>\n",
       "      <td>NaN</td>\n",
       "      <td>NaN</td>\n",
       "      <td>NaN</td>\n",
       "    </tr>\n",
       "    <tr>\n",
       "      <th>1</th>\n",
       "      <td>{'solver': 'lbfgs', 'penalty': 'elasticnet'}</td>\n",
       "      <td>NaN</td>\n",
       "      <td>NaN</td>\n",
       "      <td>NaN</td>\n",
       "    </tr>\n",
       "    <tr>\n",
       "      <th>2</th>\n",
       "      <td>{'solver': 'newton-cg', 'penalty': 'l1'}</td>\n",
       "      <td>NaN</td>\n",
       "      <td>NaN</td>\n",
       "      <td>NaN</td>\n",
       "    </tr>\n",
       "    <tr>\n",
       "      <th>6</th>\n",
       "      <td>{'solver': 'newton-cg', 'penalty': 'elasticnet'}</td>\n",
       "      <td>NaN</td>\n",
       "      <td>NaN</td>\n",
       "      <td>NaN</td>\n",
       "    </tr>\n",
       "    <tr>\n",
       "      <th>7</th>\n",
       "      <td>{'solver': 'lbfgs', 'penalty': 'l1'}</td>\n",
       "      <td>NaN</td>\n",
       "      <td>NaN</td>\n",
       "      <td>NaN</td>\n",
       "    </tr>\n",
       "    <tr>\n",
       "      <th>8</th>\n",
       "      <td>{'solver': 'sag', 'penalty': 'l1'}</td>\n",
       "      <td>NaN</td>\n",
       "      <td>NaN</td>\n",
       "      <td>NaN</td>\n",
       "    </tr>\n",
       "    <tr>\n",
       "      <th>9</th>\n",
       "      <td>{'solver': 'saga', 'penalty': 'elasticnet'}</td>\n",
       "      <td>NaN</td>\n",
       "      <td>NaN</td>\n",
       "      <td>NaN</td>\n",
       "    </tr>\n",
       "  </tbody>\n",
       "</table>\n",
       "</div>"
      ],
      "text/plain": [
       "                                             params  mean_train_score  \\\n",
       "3               {'solver': 'saga', 'penalty': 'l2'}          0.312727   \n",
       "4               {'solver': 'saga', 'penalty': 'l1'}          0.312694   \n",
       "5              {'solver': 'lbfgs', 'penalty': 'l2'}          0.312688   \n",
       "0        {'solver': 'sag', 'penalty': 'elasticnet'}               NaN   \n",
       "1      {'solver': 'lbfgs', 'penalty': 'elasticnet'}               NaN   \n",
       "2          {'solver': 'newton-cg', 'penalty': 'l1'}               NaN   \n",
       "6  {'solver': 'newton-cg', 'penalty': 'elasticnet'}               NaN   \n",
       "7              {'solver': 'lbfgs', 'penalty': 'l1'}               NaN   \n",
       "8                {'solver': 'sag', 'penalty': 'l1'}               NaN   \n",
       "9       {'solver': 'saga', 'penalty': 'elasticnet'}               NaN   \n",
       "\n",
       "   mean_test_score   diff, %  \n",
       "3         0.312674  0.016959  \n",
       "4         0.312644  0.015861  \n",
       "5         0.312642  0.014655  \n",
       "0              NaN       NaN  \n",
       "1              NaN       NaN  \n",
       "2              NaN       NaN  \n",
       "6              NaN       NaN  \n",
       "7              NaN       NaN  \n",
       "8              NaN       NaN  \n",
       "9              NaN       NaN  "
      ]
     },
     "execution_count": 55,
     "metadata": {},
     "output_type": "execute_result"
    }
   ],
   "source": [
    "cv_results = pd.DataFrame(grid_search.cv_results_)[['params', 'mean_train_score', 'mean_test_score']]\n",
    "cv_results[\"diff, %\"] = 100*(cv_results[\"mean_train_score\"]-cv_results[\"mean_test_score\"]\n",
    "                                                     )/cv_results[\"mean_train_score\"]\n",
    "\n",
    "pd.set_option('display.max_colwidth', 100)\n",
    "cv_results.sort_values('mean_test_score', ascending=False)"
   ]
  },
  {
   "cell_type": "code",
   "execution_count": 56,
   "id": "c8e470f7",
   "metadata": {},
   "outputs": [
    {
     "data": {
      "text/plain": [
       "['models/lr-clf.joblib']"
      ]
     },
     "execution_count": 56,
     "metadata": {},
     "output_type": "execute_result"
    }
   ],
   "source": [
    "# Saving the created model for further analysis\n",
    "import os\n",
    "from joblib import dump\n",
    "\n",
    "# create a folder where all trained models will be kept\n",
    "if not os.path.exists(\"models\"):\n",
    "    os.makedirs(\"models\")\n",
    "    \n",
    "dump(lr_Best_Estimate, 'models/lr-clf.joblib')"
   ]
  },
  {
   "cell_type": "markdown",
   "id": "5f2f8244",
   "metadata": {},
   "source": [
    "### Calculating model performance for testing"
   ]
  },
  {
   "cell_type": "code",
   "execution_count": 57,
   "id": "b71f1dc8",
   "metadata": {},
   "outputs": [
    {
     "name": "stdout",
     "output_type": "stream",
     "text": [
      "Random Forest:\n",
      "Precision: 0.4118379206333665\n",
      "Recall: 0.3815694637328843\n",
      "F score: 0.3160361719824377\n"
     ]
    }
   ],
   "source": [
    "from sklearn.metrics import precision_recall_fscore_support\n",
    "from joblib import load\n",
    "\n",
    "best_lr = load(\"models/lr-clf.joblib\")\n",
    "# rf\n",
    "yhat_lr = best_lr.predict(Xtest)\n",
    "\n",
    "# micro-averaged precision, recall and f-score\n",
    "p, r, lr_test_score, s = precision_recall_fscore_support(ytest, yhat_lr, average=\"macro\")\n",
    "print(\"Random Forest:\")\n",
    "print(f\"Precision: {p}\")\n",
    "print(f\"Recall: {r}\")\n",
    "print(f\"F score: {lr_test_score}\")"
   ]
  },
  {
   "cell_type": "markdown",
   "id": "ccda202d",
   "metadata": {},
   "source": [
    "## Model interpretation"
   ]
  },
  {
   "cell_type": "markdown",
   "id": "5f596b63",
   "metadata": {},
   "source": [
    "### Overfitting test"
   ]
  },
  {
   "cell_type": "markdown",
   "id": "ea0567d8",
   "metadata": {},
   "source": [
    "Here we test for overfitting by checking the difference between the performance of the dataset from training to dataset. For this test I have assumed a threshold difference of 15% over which we shall assume the model is overfitting"
   ]
  },
  {
   "cell_type": "code",
   "execution_count": 58,
   "id": "eecfb9cb",
   "metadata": {},
   "outputs": [
    {
     "name": "stdout",
     "output_type": "stream",
     "text": [
      "The difference between performance of model for training set against test is -0.34%\n",
      "The difference between training and test performance is less, overfitting may not be present\n"
     ]
    }
   ],
   "source": [
    "diff_overfitting = (lr_grid_score - lr_test_score)*100\n",
    "diff_overfitting = round(diff_overfitting,2)\n",
    "print(f'The difference between performance of model for training set against test is {diff_overfitting}%')\n",
    "if diff_overfitting < 15:\n",
    "    print('The difference between training and test performance is less, overfitting may not be present')\n",
    "else:\n",
    "    print('The difference between training and test performance is too high, overfitting may be present')"
   ]
  },
  {
   "cell_type": "markdown",
   "id": "30ab9d5d",
   "metadata": {},
   "source": [
    "### Performance against baseline"
   ]
  },
  {
   "cell_type": "code",
   "execution_count": 59,
   "id": "0495e7ec",
   "metadata": {},
   "outputs": [
    {
     "name": "stdout",
     "output_type": "stream",
     "text": [
      "The model is performing 2.27% better than the baseline model\n",
      "There is no significant improvement over baseline model\n"
     ]
    }
   ],
   "source": [
    "diff_baseline_lr = (lr_grid_score - baseline_score)*100\n",
    "diff_baseline_lr = round(diff_baseline_lr,2)\n",
    "print(f'The model is performing {diff_baseline_lr}% better than the baseline model')\n",
    "if diff_baseline_lr < 20:\n",
    "    print('There is no significant improvement over baseline model')\n",
    "else:\n",
    "    print('There is a significant improvement over the baseline model')"
   ]
  },
  {
   "cell_type": "markdown",
   "id": "0536c514",
   "metadata": {},
   "source": [
    "### Confusion matrix"
   ]
  },
  {
   "cell_type": "code",
   "execution_count": 60,
   "id": "8e3b06b1",
   "metadata": {},
   "outputs": [
    {
     "name": "stdout",
     "output_type": "stream",
     "text": [
      "[[  462     0  1807]\n",
      " [ 2265     9 20488]\n",
      " [ 5130    14 81600]]\n"
     ]
    }
   ],
   "source": [
    "from sklearn.metrics import confusion_matrix\n",
    "#Command to create array of values predicted against actual\n",
    "cfsn_matrix = confusion_matrix(ytest, yhat_lr)\n",
    "print(cfsn_matrix)"
   ]
  },
  {
   "cell_type": "code",
   "execution_count": 61,
   "id": "1fe3072e",
   "metadata": {},
   "outputs": [],
   "source": [
    "#Converting the values into proportions based on category\n",
    "cfsn_matrix = (cfsn_matrix.T/cfsn_matrix.sum(axis=1)).T"
   ]
  },
  {
   "cell_type": "code",
   "execution_count": 62,
   "id": "5f256417",
   "metadata": {},
   "outputs": [
    {
     "data": {
      "image/png": "[encoded data removed]",
      "text/plain": [
       "<Figure size 720x576 with 2 Axes>"
      ]
     },
     "metadata": {},
     "output_type": "display_data"
    }
   ],
   "source": [
    "import seaborn as sns\n",
    "import matplotlib.pyplot as plt\n",
    "\n",
    "#Setting figure size\n",
    "sns.set(rc={'figure.figsize':(10,8)})\n",
    "#Creating heatmap to visually interpret the values better\n",
    "ax = sns.heatmap(cfsn_matrix, annot=True, \n",
    "            fmt='.2%', cmap='BuPu')\n",
    "\n",
    "ax.set_title('Confusion Matrix visualization for Logistic Regression model\\n\\n');\n",
    "ax.set_xlabel('\\nPredicted Values')\n",
    "ax.set_ylabel('Actual Values ');\n",
    "\n",
    "#Setting ticket labels\n",
    "ax.xaxis.set_ticklabels(['Fatal','Serious', 'Slight'])\n",
    "ax.yaxis.set_ticklabels(['Fatal','Serious', 'Slight'])\n",
    "\n",
    "# Displaying the heatmap\n",
    "plt.show()"
   ]
  },
  {
   "cell_type": "markdown",
   "id": "f57b441e",
   "metadata": {},
   "source": [
    "### Model summarization \n",
    "The difference between performance of model for training set against test is -0.34%\n",
    "The difference between training and test performance is less, overfitting may not be present\n",
    "The model is performing 2.27% better than the baseline model\n",
    "There is no significant improvement over baseline model\n",
    "The confusion matrix clearly shows bias of the model which is mainly choosing the majority category for all the categories\n",
    "Overall this is not the best model for our analysis"
   ]
  },
  {
   "cell_type": "markdown",
   "id": "bc70830f",
   "metadata": {},
   "source": [
    "## Model 2 - Random Forest - Classifier"
   ]
  },
  {
   "cell_type": "markdown",
   "id": "83746f93",
   "metadata": {},
   "source": [
    "Random forest is an ensemble method which aggregates the decision over multiple decision trees via bootstrapping and provides the resulting prediction. This is an efficient method where power of decision trees is amplified in some cases, however with this method the interpretability of decision trees is lost"
   ]
  },
  {
   "cell_type": "markdown",
   "id": "64fafb6a",
   "metadata": {},
   "source": [
    "### Algorithm definition and hyperparameter tuning using random grid search"
   ]
  },
  {
   "cell_type": "code",
   "execution_count": 65,
   "id": "3d544fab",
   "metadata": {
    "scrolled": true
   },
   "outputs": [
    {
     "name": "stderr",
     "output_type": "stream",
     "text": [
      "C:\\ProgramData\\Anaconda3\\lib\\site-packages\\sklearn\\model_selection\\_search.py:285: UserWarning: The total space of parameters 4 is smaller than n_iter=10. Running 4 iterations. For exhaustive searches, use GridSearchCV.\n",
      "  warnings.warn(\n"
     ]
    },
    {
     "name": "stdout",
     "output_type": "stream",
     "text": [
      "Took 222.52385830879211 seconds\n"
     ]
    }
   ],
   "source": [
    "from sklearn.model_selection import RandomizedSearchCV \n",
    "from sklearn.ensemble import RandomForestClassifier\n",
    "\n",
    "rf = RandomForestClassifier(random_state=7, class_weight = 'balanced_subsample' )\n",
    "\n",
    "# specify the hyperparameters and their values\n",
    "# 4 x 3 x 2 = 24 combinations in the grid\n",
    "param_grid = {\n",
    "    'n_estimators': [100, 200],\n",
    "    'max_depth': [35, 55],\n",
    "}\n",
    "\n",
    "# Using 5-fold cross-validation\n",
    "grid_search = RandomizedSearchCV(rf, param_grid, cv=3,\n",
    "                           scoring='f1_macro', \n",
    "                           return_train_score=True,\n",
    "                           n_jobs = -1\n",
    "                          ) \n",
    "\n",
    "start = time.time()\n",
    "grid_search.fit(Xtrain, ytrain)\n",
    "rf_time = time.time() - start\n",
    "print(f\"Took {rf_time} seconds\")"
   ]
  },
  {
   "cell_type": "markdown",
   "id": "c9d537fb",
   "metadata": {},
   "source": [
    "### Summarizing model characteristics"
   ]
  },
  {
   "cell_type": "markdown",
   "id": "0fac0849",
   "metadata": {},
   "source": [
    "This code block shows the best set of hyperparameters that are selected from the input given to the random grid search"
   ]
  },
  {
   "cell_type": "code",
   "execution_count": 66,
   "id": "c6933212",
   "metadata": {},
   "outputs": [
    {
     "data": {
      "text/plain": [
       "RandomForestClassifier(class_weight='balanced_subsample', max_depth=55,\n",
       "                       n_estimators=200, random_state=7)"
      ]
     },
     "execution_count": 66,
     "metadata": {},
     "output_type": "execute_result"
    }
   ],
   "source": [
    "rf_best_estimate = grid_search.best_estimator_\n",
    "rf_best_estimate"
   ]
  },
  {
   "cell_type": "markdown",
   "id": "531cf041",
   "metadata": {},
   "source": [
    "This score denotes the model score which is obtained post training"
   ]
  },
  {
   "cell_type": "code",
   "execution_count": 67,
   "id": "111da524",
   "metadata": {
    "scrolled": true
   },
   "outputs": [
    {
     "data": {
      "text/plain": [
       "0.8083131715396913"
      ]
     },
     "execution_count": 67,
     "metadata": {},
     "output_type": "execute_result"
    }
   ],
   "source": [
    "rf_train_score = grid_search.best_score_\n",
    "rf_train_score"
   ]
  },
  {
   "cell_type": "code",
   "execution_count": 68,
   "id": "888e0f27",
   "metadata": {
    "scrolled": true
   },
   "outputs": [
    {
     "data": {
      "text/plain": [
       "3"
      ]
     },
     "execution_count": 68,
     "metadata": {},
     "output_type": "execute_result"
    }
   ],
   "source": [
    "best_model_index = grid_search.cv_results_[\"rank_test_score\"].tolist().index(1)\n",
    "best_model_index"
   ]
  },
  {
   "cell_type": "code",
   "execution_count": 69,
   "id": "737fbdfd",
   "metadata": {},
   "outputs": [],
   "source": [
    "rf_split_test_scores = []\n",
    "for x in range(3):\n",
    "    # extract f-score of the best model (index='best_model_index') from each of the 5 splits\n",
    "    val = grid_search.cv_results_[f\"split{x}_test_score\"][best_model_index]\n",
    "    rf_split_test_scores.append(val)"
   ]
  },
  {
   "cell_type": "markdown",
   "id": "bbc85771",
   "metadata": {},
   "source": [
    "### Visualizing the changes of score based on various combinations of hyper parameters"
   ]
  },
  {
   "cell_type": "code",
   "execution_count": 70,
   "id": "0fda6170",
   "metadata": {
    "scrolled": true
   },
   "outputs": [
    {
     "data": {
      "text/html": [
       "<div>\n",
       "<style scoped>\n",
       "    .dataframe tbody tr th:only-of-type {\n",
       "        vertical-align: middle;\n",
       "    }\n",
       "\n",
       "    .dataframe tbody tr th {\n",
       "        vertical-align: top;\n",
       "    }\n",
       "\n",
       "    .dataframe thead th {\n",
       "        text-align: right;\n",
       "    }\n",
       "</style>\n",
       "<table border=\"1\" class=\"dataframe\">\n",
       "  <thead>\n",
       "    <tr style=\"text-align: right;\">\n",
       "      <th></th>\n",
       "      <th>params</th>\n",
       "      <th>mean_train_score</th>\n",
       "      <th>mean_test_score</th>\n",
       "      <th>diff, %</th>\n",
       "    </tr>\n",
       "  </thead>\n",
       "  <tbody>\n",
       "    <tr>\n",
       "      <th>3</th>\n",
       "      <td>{'n_estimators': 200, 'max_depth': 55}</td>\n",
       "      <td>0.913130</td>\n",
       "      <td>0.808313</td>\n",
       "      <td>11.478803</td>\n",
       "    </tr>\n",
       "    <tr>\n",
       "      <th>2</th>\n",
       "      <td>{'n_estimators': 100, 'max_depth': 55}</td>\n",
       "      <td>0.912331</td>\n",
       "      <td>0.808047</td>\n",
       "      <td>11.430498</td>\n",
       "    </tr>\n",
       "    <tr>\n",
       "      <th>1</th>\n",
       "      <td>{'n_estimators': 200, 'max_depth': 35}</td>\n",
       "      <td>0.911458</td>\n",
       "      <td>0.806969</td>\n",
       "      <td>11.463966</td>\n",
       "    </tr>\n",
       "    <tr>\n",
       "      <th>0</th>\n",
       "      <td>{'n_estimators': 100, 'max_depth': 35}</td>\n",
       "      <td>0.910097</td>\n",
       "      <td>0.806371</td>\n",
       "      <td>11.397291</td>\n",
       "    </tr>\n",
       "  </tbody>\n",
       "</table>\n",
       "</div>"
      ],
      "text/plain": [
       "                                   params  mean_train_score  mean_test_score  \\\n",
       "3  {'n_estimators': 200, 'max_depth': 55}          0.913130         0.808313   \n",
       "2  {'n_estimators': 100, 'max_depth': 55}          0.912331         0.808047   \n",
       "1  {'n_estimators': 200, 'max_depth': 35}          0.911458         0.806969   \n",
       "0  {'n_estimators': 100, 'max_depth': 35}          0.910097         0.806371   \n",
       "\n",
       "     diff, %  \n",
       "3  11.478803  \n",
       "2  11.430498  \n",
       "1  11.463966  \n",
       "0  11.397291  "
      ]
     },
     "execution_count": 70,
     "metadata": {},
     "output_type": "execute_result"
    }
   ],
   "source": [
    "cv_results = pd.DataFrame(grid_search.cv_results_)[['params', 'mean_train_score', 'mean_test_score']]\n",
    "cv_results[\"diff, %\"] = 100*(cv_results[\"mean_train_score\"]-cv_results[\"mean_test_score\"]\n",
    "                                                     )/cv_results[\"mean_train_score\"]\n",
    "\n",
    "pd.set_option('display.max_colwidth', 100)\n",
    "cv_results.sort_values('mean_test_score', ascending=False)"
   ]
  },
  {
   "cell_type": "code",
   "execution_count": 71,
   "id": "feae35d0",
   "metadata": {},
   "outputs": [
    {
     "data": {
      "text/plain": [
       "['models/rf-clf.joblib']"
      ]
     },
     "execution_count": 71,
     "metadata": {},
     "output_type": "execute_result"
    }
   ],
   "source": [
    "#Saving the model for further analysis\n",
    "dump(rf_best_estimate, 'models/rf-clf.joblib')"
   ]
  },
  {
   "cell_type": "markdown",
   "id": "b229e7bd",
   "metadata": {},
   "source": [
    "### Calculating model performance for testing"
   ]
  },
  {
   "cell_type": "code",
   "execution_count": 72,
   "id": "14e41a6a",
   "metadata": {},
   "outputs": [
    {
     "name": "stdout",
     "output_type": "stream",
     "text": [
      "Random Forest:\n",
      "Precision: 0.9100625691047585\n",
      "Recall: 0.6285434482222879\n",
      "F score: 0.7019017382376092\n"
     ]
    }
   ],
   "source": [
    "from sklearn.metrics import precision_recall_fscore_support\n",
    "from joblib import load\n",
    "\n",
    "best_rf = load(\"models/rf-clf.joblib\")\n",
    "# rf\n",
    "yhat_rf = best_rf.predict(Xtest)\n",
    "\n",
    "# micro-averaged precision, recall and f-score\n",
    "p, r, rf_test_score, s = precision_recall_fscore_support(ytest, yhat_rf, average=\"macro\")\n",
    "print(\"Random Forest:\")\n",
    "print(f\"Precision: {p}\")\n",
    "print(f\"Recall: {r}\")\n",
    "print(f\"F score: {rf_test_score}\")"
   ]
  },
  {
   "cell_type": "markdown",
   "id": "fd4941a4",
   "metadata": {},
   "source": [
    "## Model interpretation"
   ]
  },
  {
   "cell_type": "markdown",
   "id": "24e383ac",
   "metadata": {},
   "source": [
    "### Overfitting test"
   ]
  },
  {
   "cell_type": "markdown",
   "id": "7ec4a205",
   "metadata": {},
   "source": [
    "Here we test for overfitting by checking the difference between the performance of the dataset from training to dataset. For this test I have assumed a threshold difference of 15% over which we shall assume the model is overfitting"
   ]
  },
  {
   "cell_type": "code",
   "execution_count": 73,
   "id": "72396705",
   "metadata": {},
   "outputs": [
    {
     "name": "stdout",
     "output_type": "stream",
     "text": [
      "The difference between performance of model for training set against test is 10.64%\n",
      "The difference between training and test performance is less, overfitting may not be present\n"
     ]
    }
   ],
   "source": [
    "diff_overfitting = (rf_train_score - rf_test_score)*100\n",
    "diff_overfitting = round(diff_overfitting,2)\n",
    "print(f'The difference between performance of model for training set against test is {diff_overfitting}%')\n",
    "if diff_overfitting < 15:\n",
    "    print('The difference between training and test performance is less, overfitting may not be present')\n",
    "else:\n",
    "    print('The difference between training and test performance is too high, overfitting may be present')"
   ]
  },
  {
   "cell_type": "markdown",
   "id": "36feec7e",
   "metadata": {},
   "source": [
    "### Performance against baseline"
   ]
  },
  {
   "cell_type": "code",
   "execution_count": 110,
   "id": "92d42634",
   "metadata": {},
   "outputs": [
    {
     "name": "stdout",
     "output_type": "stream",
     "text": [
      "The model is performing 51.83% better than the baseline model\n",
      "There is a significant improvement over the baseline model\n"
     ]
    }
   ],
   "source": [
    "diff_baseline_rf = (rf_train_score - baseline_score)*100\n",
    "diff_baseline_rf = round(diff_baseline_rf,2)\n",
    "print(f'The model is performing {diff_baseline_rf}% better than the baseline model')\n",
    "if diff_baseline_rf < 20:\n",
    "    print('There is no significant improvement over baseline model')\n",
    "else:\n",
    "    print('There is a significant improvement over the baseline model')"
   ]
  },
  {
   "cell_type": "markdown",
   "id": "4cc6a97c",
   "metadata": {},
   "source": [
    "### Confusion matrix"
   ]
  },
  {
   "cell_type": "code",
   "execution_count": 75,
   "id": "5843e7b5",
   "metadata": {},
   "outputs": [
    {
     "name": "stdout",
     "output_type": "stream",
     "text": [
      "[[ 1294    61   914]\n",
      " [   13  7333 15416]\n",
      " [   30   562 86152]]\n"
     ]
    }
   ],
   "source": [
    "from sklearn.metrics import confusion_matrix\n",
    "cfsn_matrix = confusion_matrix(ytest, yhat_rf)\n",
    "\n",
    "print(cfsn_matrix)"
   ]
  },
  {
   "cell_type": "code",
   "execution_count": 76,
   "id": "83572cb3",
   "metadata": {},
   "outputs": [],
   "source": [
    "cfsn_matrix = (cfsn_matrix.T/cfsn_matrix.sum(axis=1)).T"
   ]
  },
  {
   "cell_type": "code",
   "execution_count": 77,
   "id": "1d413bcf",
   "metadata": {},
   "outputs": [
    {
     "data": {
      "image/png": "[encoded data removed]",
      "text/plain": [
       "<Figure size 720x576 with 2 Axes>"
      ]
     },
     "metadata": {},
     "output_type": "display_data"
    }
   ],
   "source": [
    "import seaborn as sns\n",
    "import matplotlib.pyplot as plt\n",
    "\n",
    "sns.set(rc={'figure.figsize':(10,8)})\n",
    "ax = sns.heatmap(cfsn_matrix, annot=True, \n",
    "            fmt='.2%', cmap='BuPu')\n",
    "\n",
    "ax.set_title('Confusion Matrix visualization for Random Forest model\\n\\n');\n",
    "ax.set_xlabel('\\nPredicted Values')\n",
    "ax.set_ylabel('Actual Values ');\n",
    "\n",
    "## Ticket labels - List must be in alphabetical order\n",
    "ax.xaxis.set_ticklabels(['Fatal','Serious', 'Slight'])\n",
    "ax.yaxis.set_ticklabels(['Fatal','Serious', 'Slight'])\n",
    "\n",
    "## Display the visualization of the Confusion Matrix.\n",
    "plt.show()"
   ]
  },
  {
   "cell_type": "markdown",
   "id": "2c8f2fa5",
   "metadata": {},
   "source": [
    "#### Model interpretation \n",
    "The difference between performance of model for training set against test is 10.64%\n",
    "The difference between training and test performance is less, overfitting may not be present\n",
    "The model is performing 51.83% better than the baseline model\n",
    "There is a significant improvement over the baseline model\n",
    "The confusion matrix shows considerably good performance of the model for random forest algorithm, as we can see with the majority of the testing being atleast being predicted as the right category even for 1 minority variable - Fatal. This provides us good confidence with the model, however the prediction of Serious category is not very strong"
   ]
  },
  {
   "cell_type": "markdown",
   "id": "e9d971d2",
   "metadata": {},
   "source": [
    "## Model 3 - Neural network - Multilayer perceptron - Classifier"
   ]
  },
  {
   "cell_type": "markdown",
   "id": "163fc5d6",
   "metadata": {},
   "source": [
    "This is a powerful algorithm with generally strong predictive power, it considers input and appplies weights and bias by converting them into activation functtion in the hidden layer and ultimately provide the output in the output layer. The number of hidden layer and the nodes which help with this transformation are some of the hyperparameters to this model"
   ]
  },
  {
   "cell_type": "markdown",
   "id": "19d6d268",
   "metadata": {},
   "source": [
    "### Algorithm definition and hyperparameter tuning using random grid search"
   ]
  },
  {
   "cell_type": "code",
   "execution_count": 78,
   "id": "0d11f646",
   "metadata": {},
   "outputs": [
    {
     "name": "stderr",
     "output_type": "stream",
     "text": [
      "C:\\ProgramData\\Anaconda3\\lib\\site-packages\\sklearn\\model_selection\\_search.py:285: UserWarning: The total space of parameters 4 is smaller than n_iter=10. Running 4 iterations. For exhaustive searches, use GridSearchCV.\n",
      "  warnings.warn(\n"
     ]
    },
    {
     "name": "stdout",
     "output_type": "stream",
     "text": [
      "Took 622.2442963123322 seconds\n"
     ]
    }
   ],
   "source": [
    "from sklearn.neural_network import MLPClassifier\n",
    "\n",
    "nn = MLPClassifier(random_state=7, max_iter = 300)\n",
    "\n",
    "# specify the hyperparameters and their values\n",
    "# 4 x 3 x 2 = 24 combinations in the grid\n",
    "param_grid = {\n",
    "    'hidden_layer_sizes': [(50,2), (75, 2)],\n",
    "    'activation': ['relu', 'identity']\n",
    "}\n",
    "\n",
    "# we'll use 5-fold cross-validation\n",
    "grid_search = RandomizedSearchCV(nn, param_grid, cv=5,\n",
    "                           scoring='f1_macro', \n",
    "                           return_train_score=True,\n",
    "                          n_jobs = -1) \n",
    "\n",
    "start = time.time()\n",
    "grid_search.fit(Xtrain, ytrain)\n",
    "nn_time = time.time() - start\n",
    "print(f\"Took {nn_time} seconds\")"
   ]
  },
  {
   "cell_type": "markdown",
   "id": "c373f10a",
   "metadata": {},
   "source": [
    "### Summarizing model characteristics"
   ]
  },
  {
   "cell_type": "markdown",
   "id": "0bb658dd",
   "metadata": {},
   "source": [
    "This code block shows the best set of hyperparameters that are selected from the input given to the random grid search"
   ]
  },
  {
   "cell_type": "code",
   "execution_count": 79,
   "id": "f0676764",
   "metadata": {},
   "outputs": [
    {
     "data": {
      "text/plain": [
       "MLPClassifier(hidden_layer_sizes=(75, 2), max_iter=300, random_state=7)"
      ]
     },
     "execution_count": 79,
     "metadata": {},
     "output_type": "execute_result"
    }
   ],
   "source": [
    "nn_best_estimate = grid_search.best_estimator_\n",
    "nn_best_estimate"
   ]
  },
  {
   "cell_type": "markdown",
   "id": "36526c6c",
   "metadata": {},
   "source": [
    "This score denotes the model score which is obtained post training"
   ]
  },
  {
   "cell_type": "code",
   "execution_count": 80,
   "id": "35181de5",
   "metadata": {
    "scrolled": true
   },
   "outputs": [
    {
     "data": {
      "text/plain": [
       "0.4363841423245082"
      ]
     },
     "execution_count": 80,
     "metadata": {},
     "output_type": "execute_result"
    }
   ],
   "source": [
    "nn_train_score = grid_search.best_score_\n",
    "nn_train_score"
   ]
  },
  {
   "cell_type": "code",
   "execution_count": 81,
   "id": "8e45f8cc",
   "metadata": {
    "scrolled": true
   },
   "outputs": [
    {
     "data": {
      "text/plain": [
       "1"
      ]
     },
     "execution_count": 81,
     "metadata": {},
     "output_type": "execute_result"
    }
   ],
   "source": [
    "best_model_index = grid_search.cv_results_[\"rank_test_score\"].tolist().index(1)\n",
    "best_model_index"
   ]
  },
  {
   "cell_type": "code",
   "execution_count": 82,
   "id": "f6bfb309",
   "metadata": {},
   "outputs": [],
   "source": [
    "nn_split_test_scores = []\n",
    "for x in range(5):\n",
    "    # extract f-score of the best model (index='best_model_index') from each of the 5 splits\n",
    "    val = grid_search.cv_results_[f\"split{x}_test_score\"][best_model_index]\n",
    "    nn_split_test_scores.append(val)"
   ]
  },
  {
   "cell_type": "markdown",
   "id": "7b1e7113",
   "metadata": {},
   "source": [
    "### Visualizing the changes of score based on various combinations of hyper parameters"
   ]
  },
  {
   "cell_type": "code",
   "execution_count": 83,
   "id": "e1d6fba5",
   "metadata": {},
   "outputs": [
    {
     "data": {
      "text/html": [
       "<div>\n",
       "<style scoped>\n",
       "    .dataframe tbody tr th:only-of-type {\n",
       "        vertical-align: middle;\n",
       "    }\n",
       "\n",
       "    .dataframe tbody tr th {\n",
       "        vertical-align: top;\n",
       "    }\n",
       "\n",
       "    .dataframe thead th {\n",
       "        text-align: right;\n",
       "    }\n",
       "</style>\n",
       "<table border=\"1\" class=\"dataframe\">\n",
       "  <thead>\n",
       "    <tr style=\"text-align: right;\">\n",
       "      <th></th>\n",
       "      <th>params</th>\n",
       "      <th>mean_train_score</th>\n",
       "      <th>mean_test_score</th>\n",
       "      <th>diff, %</th>\n",
       "    </tr>\n",
       "  </thead>\n",
       "  <tbody>\n",
       "    <tr>\n",
       "      <th>1</th>\n",
       "      <td>{'hidden_layer_sizes': (75, 2), 'activation': 'relu'}</td>\n",
       "      <td>0.440687</td>\n",
       "      <td>0.436384</td>\n",
       "      <td>0.976413</td>\n",
       "    </tr>\n",
       "    <tr>\n",
       "      <th>0</th>\n",
       "      <td>{'hidden_layer_sizes': (50, 2), 'activation': 'relu'}</td>\n",
       "      <td>0.406364</td>\n",
       "      <td>0.404157</td>\n",
       "      <td>0.543231</td>\n",
       "    </tr>\n",
       "    <tr>\n",
       "      <th>2</th>\n",
       "      <td>{'hidden_layer_sizes': (50, 2), 'activation': 'identity'}</td>\n",
       "      <td>0.311666</td>\n",
       "      <td>0.311603</td>\n",
       "      <td>0.020208</td>\n",
       "    </tr>\n",
       "    <tr>\n",
       "      <th>3</th>\n",
       "      <td>{'hidden_layer_sizes': (75, 2), 'activation': 'identity'}</td>\n",
       "      <td>0.308223</td>\n",
       "      <td>0.308109</td>\n",
       "      <td>0.037016</td>\n",
       "    </tr>\n",
       "  </tbody>\n",
       "</table>\n",
       "</div>"
      ],
      "text/plain": [
       "                                                      params  \\\n",
       "1      {'hidden_layer_sizes': (75, 2), 'activation': 'relu'}   \n",
       "0      {'hidden_layer_sizes': (50, 2), 'activation': 'relu'}   \n",
       "2  {'hidden_layer_sizes': (50, 2), 'activation': 'identity'}   \n",
       "3  {'hidden_layer_sizes': (75, 2), 'activation': 'identity'}   \n",
       "\n",
       "   mean_train_score  mean_test_score   diff, %  \n",
       "1          0.440687         0.436384  0.976413  \n",
       "0          0.406364         0.404157  0.543231  \n",
       "2          0.311666         0.311603  0.020208  \n",
       "3          0.308223         0.308109  0.037016  "
      ]
     },
     "execution_count": 83,
     "metadata": {},
     "output_type": "execute_result"
    }
   ],
   "source": [
    "cv_results = pd.DataFrame(grid_search.cv_results_)[['params', 'mean_train_score', 'mean_test_score']]\n",
    "cv_results[\"diff, %\"] = 100*(cv_results[\"mean_train_score\"]-cv_results[\"mean_test_score\"]\n",
    "                                                     )/cv_results[\"mean_train_score\"]\n",
    "\n",
    "pd.set_option('display.max_colwidth', 100)\n",
    "cv_results.sort_values('mean_test_score', ascending=False)"
   ]
  },
  {
   "cell_type": "code",
   "execution_count": 84,
   "id": "da535422",
   "metadata": {
    "scrolled": true
   },
   "outputs": [
    {
     "data": {
      "text/plain": [
       "['models/nn-clf.joblib']"
      ]
     },
     "execution_count": 84,
     "metadata": {},
     "output_type": "execute_result"
    }
   ],
   "source": [
    "#Saving the model\n",
    "dump(nn_best_estimate, 'models/nn-clf.joblib')"
   ]
  },
  {
   "cell_type": "markdown",
   "id": "5193b71a",
   "metadata": {},
   "source": [
    "### Calculating model performance for testing"
   ]
  },
  {
   "cell_type": "code",
   "execution_count": 85,
   "id": "a9eccf07",
   "metadata": {
    "scrolled": true
   },
   "outputs": [
    {
     "name": "stdout",
     "output_type": "stream",
     "text": [
      "Random Forest:\n",
      "Precision: 0.3899943256720755\n",
      "Recall: 0.4336532258043355\n",
      "F score: 0.3190747899278263\n"
     ]
    }
   ],
   "source": [
    "from sklearn.metrics import precision_recall_fscore_support\n",
    "from joblib import load\n",
    "\n",
    "best_nn = load(\"models/nn-clf.joblib\")\n",
    "# nn\n",
    "yhat_nn = best_nn.predict(Xtest)\n",
    "\n",
    "# micro-averaged precision, recall and f-score\n",
    "p, r, nn_test_score, s = precision_recall_fscore_support(ytest, yhat_nn, average=\"macro\")\n",
    "print(\"Random Forest:\")\n",
    "print(f\"Precision: {p}\")\n",
    "print(f\"Recall: {r}\")\n",
    "print(f\"F score: {nn_test_score}\")"
   ]
  },
  {
   "cell_type": "markdown",
   "id": "11a4e6a9",
   "metadata": {},
   "source": [
    "## Model interpretation"
   ]
  },
  {
   "cell_type": "markdown",
   "id": "788f21a1",
   "metadata": {},
   "source": [
    "### Overfitting test"
   ]
  },
  {
   "cell_type": "markdown",
   "id": "9d839bdd",
   "metadata": {},
   "source": [
    "Here we test for overfitting by checking the difference between the performance of the dataset from training to dataset. For this test I have assumed a threshold difference of 15% over which we shall assume the model is overfitting"
   ]
  },
  {
   "cell_type": "code",
   "execution_count": 86,
   "id": "ceb70133",
   "metadata": {},
   "outputs": [
    {
     "name": "stdout",
     "output_type": "stream",
     "text": [
      "The difference between performance of model for training set against test is 11.73%\n",
      "The difference between training and test performance is less, overfitting may not be present\n"
     ]
    }
   ],
   "source": [
    "diff_overfitting = (nn_train_score - nn_test_score)*100\n",
    "diff_overfitting = round(diff_overfitting,2)\n",
    "print(f'The difference between performance of model for training set against test is {diff_overfitting}%')\n",
    "if diff_overfitting < 15:\n",
    "    print('The difference between training and test performance is less, overfitting may not be present')\n",
    "else:\n",
    "    print('The difference between training and test performance is too high, overfitting may be present')"
   ]
  },
  {
   "cell_type": "markdown",
   "id": "2f983990",
   "metadata": {},
   "source": [
    "### Performance against baseline"
   ]
  },
  {
   "cell_type": "code",
   "execution_count": 88,
   "id": "5bc0ae7c",
   "metadata": {},
   "outputs": [
    {
     "name": "stdout",
     "output_type": "stream",
     "text": [
      "The model is performing 2.91% better than the baseline model\n",
      "There is no significant improvement over baseline model\n"
     ]
    }
   ],
   "source": [
    "diff_baseline_nn = (nn_test_score - baseline_score)*100\n",
    "diff_baseline_nn = round(diff_baseline_nn,2)\n",
    "print(f'The model is performing {diff_baseline_nn}% better than the baseline model')\n",
    "if diff_baseline_nn < 20:\n",
    "    print('There is no significant improvement over baseline model')\n",
    "else:\n",
    "    print('There is a significant improvement over the baseline model')"
   ]
  },
  {
   "cell_type": "markdown",
   "id": "201f31ab",
   "metadata": {},
   "source": [
    "### Confusion matrix"
   ]
  },
  {
   "cell_type": "code",
   "execution_count": 90,
   "id": "61fcfd84",
   "metadata": {},
   "outputs": [
    {
     "name": "stdout",
     "output_type": "stream",
     "text": [
      "[[  939    54  1276]\n",
      " [ 3928   167 18667]\n",
      " [10118   310 76316]]\n"
     ]
    }
   ],
   "source": [
    "from sklearn.metrics import confusion_matrix\n",
    "cfsn_matrix = confusion_matrix(ytest, yhat_nn)\n",
    "\n",
    "print(cfsn_matrix)"
   ]
  },
  {
   "cell_type": "code",
   "execution_count": 91,
   "id": "6b04873c",
   "metadata": {},
   "outputs": [],
   "source": [
    "cfsn_matrix = (cfsn_matrix.T/cfsn_matrix.sum(axis=1)).T"
   ]
  },
  {
   "cell_type": "code",
   "execution_count": 115,
   "id": "b98624b1",
   "metadata": {},
   "outputs": [
    {
     "data": {
      "image/png": "[encoded data removed]",
      "text/plain": [
       "<Figure size 720x576 with 2 Axes>"
      ]
     },
     "metadata": {},
     "output_type": "display_data"
    }
   ],
   "source": [
    "import seaborn as sns\n",
    "import matplotlib.pyplot as plt\n",
    "\n",
    "sns.set(rc={'figure.figsize':(10,8)})\n",
    "ax = sns.heatmap(cfsn_matrix, annot=True, \n",
    "            fmt='.2%', cmap='BuPu')\n",
    "\n",
    "ax.set_title('Seaborn Confusion Matrix with labels\\n\\n');\n",
    "ax.set_xlabel('\\nPredicted Values')\n",
    "ax.set_ylabel('Actual Values ');\n",
    "\n",
    "## Ticket labels - List must be in alphabetical order\n",
    "ax.xaxis.set_ticklabels(['Fatal','Serious', 'Slight'])\n",
    "ax.yaxis.set_ticklabels(['Fatal','Serious', 'Slight'])\n",
    "\n",
    "## Display the visualization of the Confusion Matrix.\n",
    "plt.show()"
   ]
  },
  {
   "cell_type": "markdown",
   "id": "6427b8c9",
   "metadata": {},
   "source": [
    "#### Model interpretation \n",
    "The difference between performance of model for training set against test is 11.73%\n",
    "The difference between training and test performance is less, overfitting may not be present\n",
    "The model is performing 2.91% better than the baseline model\n",
    "There is no significant improvement over baseline model\n",
    "The confusion matrix shows a heavy leaning of the model towards the most frequent category as observed with the logistic regression model. Due to these observations it can be concluded that this is not a good model "
   ]
  },
  {
   "cell_type": "markdown",
   "id": "0b0a83aa",
   "metadata": {},
   "source": [
    "## Model 4 - Decision tree - Classifier"
   ]
  },
  {
   "cell_type": "markdown",
   "id": "8d199fd0",
   "metadata": {},
   "source": [
    "Decision tree is a powerful method which provides good predictive power based on the logical bifurcations or branches created based on conditional statements. Another benefit of decision tree is that of interpretability, studying the tree we can easily understand the basis of prediction"
   ]
  },
  {
   "cell_type": "markdown",
   "id": "0add6aac",
   "metadata": {},
   "source": [
    "### Algorithm definition and hyperparameter tuning using random grid search"
   ]
  },
  {
   "cell_type": "code",
   "execution_count": 93,
   "id": "030a7b0c",
   "metadata": {
    "scrolled": true
   },
   "outputs": [
    {
     "name": "stderr",
     "output_type": "stream",
     "text": [
      "C:\\ProgramData\\Anaconda3\\lib\\site-packages\\sklearn\\model_selection\\_search.py:285: UserWarning: The total space of parameters 5 is smaller than n_iter=10. Running 5 iterations. For exhaustive searches, use GridSearchCV.\n",
      "  warnings.warn(\n"
     ]
    },
    {
     "name": "stdout",
     "output_type": "stream",
     "text": [
      "Took 33.30225706100464 seconds\n"
     ]
    }
   ],
   "source": [
    "from sklearn.tree import DecisionTreeClassifier\n",
    "\n",
    "dtc = DecisionTreeClassifier(random_state=7)\n",
    "\n",
    "# specify the hyperparameters and their values\n",
    "# 4 x 3 x 2 = 24 combinations in the grid\n",
    "param_grid = {\n",
    "    'max_depth': [40, 45, 50, 65, 75]\n",
    "}\n",
    "\n",
    "# we'll use 5-fold cross-validation\n",
    "grid_search = RandomizedSearchCV(dtc, param_grid, cv=5,\n",
    "                           scoring='f1_macro', \n",
    "                           return_train_score=True,\n",
    "                          n_jobs = -1) \n",
    "\n",
    "start = time.time()\n",
    "grid_search.fit(Xtrain, ytrain)\n",
    "dt_time = time.time() - start\n",
    "print(f\"Took {dt_time} seconds\")"
   ]
  },
  {
   "cell_type": "markdown",
   "id": "ea36b547",
   "metadata": {},
   "source": [
    "### Summarizing model characteristics"
   ]
  },
  {
   "cell_type": "markdown",
   "id": "e8e78f12",
   "metadata": {},
   "source": [
    "This code block shows the best set of hyperparameters that are selected from the input given to the random grid search"
   ]
  },
  {
   "cell_type": "code",
   "execution_count": 94,
   "id": "6c6c1e6c",
   "metadata": {},
   "outputs": [
    {
     "data": {
      "text/plain": [
       "DecisionTreeClassifier(max_depth=50, random_state=7)"
      ]
     },
     "execution_count": 94,
     "metadata": {},
     "output_type": "execute_result"
    }
   ],
   "source": [
    "dt_best_estimate = grid_search.best_estimator_\n",
    "dt_best_estimate"
   ]
  },
  {
   "cell_type": "markdown",
   "id": "d258e843",
   "metadata": {},
   "source": [
    "This score denotes the model score which is obtained post training"
   ]
  },
  {
   "cell_type": "code",
   "execution_count": 95,
   "id": "9fe108bf",
   "metadata": {
    "scrolled": true
   },
   "outputs": [
    {
     "data": {
      "text/plain": [
       "0.8395374570030476"
      ]
     },
     "execution_count": 95,
     "metadata": {},
     "output_type": "execute_result"
    }
   ],
   "source": [
    "dt_train_score = grid_search.best_score_\n",
    "dt_train_score"
   ]
  },
  {
   "cell_type": "code",
   "execution_count": 96,
   "id": "c6286622",
   "metadata": {
    "scrolled": true
   },
   "outputs": [
    {
     "data": {
      "text/plain": [
       "2"
      ]
     },
     "execution_count": 96,
     "metadata": {},
     "output_type": "execute_result"
    }
   ],
   "source": [
    "best_model_index = grid_search.cv_results_[\"rank_test_score\"].tolist().index(1)\n",
    "best_model_index"
   ]
  },
  {
   "cell_type": "code",
   "execution_count": 97,
   "id": "bfb2c046",
   "metadata": {},
   "outputs": [],
   "source": [
    "dt_split_test_scores = []\n",
    "for x in range(3):\n",
    "    # extract f-score of the best model (index='best_model_index') from each of the 5 splits\n",
    "    val = grid_search.cv_results_[f\"split{x}_test_score\"][best_model_index]\n",
    "    dt_split_test_scores.append(val)"
   ]
  },
  {
   "cell_type": "markdown",
   "id": "69fee970",
   "metadata": {},
   "source": [
    "### Visualizing the changes of score based on various combinations of hyper parameters"
   ]
  },
  {
   "cell_type": "code",
   "execution_count": 98,
   "id": "e5963e98",
   "metadata": {},
   "outputs": [
    {
     "data": {
      "text/html": [
       "<div>\n",
       "<style scoped>\n",
       "    .dataframe tbody tr th:only-of-type {\n",
       "        vertical-align: middle;\n",
       "    }\n",
       "\n",
       "    .dataframe tbody tr th {\n",
       "        vertical-align: top;\n",
       "    }\n",
       "\n",
       "    .dataframe thead th {\n",
       "        text-align: right;\n",
       "    }\n",
       "</style>\n",
       "<table border=\"1\" class=\"dataframe\">\n",
       "  <thead>\n",
       "    <tr style=\"text-align: right;\">\n",
       "      <th></th>\n",
       "      <th>params</th>\n",
       "      <th>mean_train_score</th>\n",
       "      <th>mean_test_score</th>\n",
       "      <th>diff, %</th>\n",
       "    </tr>\n",
       "  </thead>\n",
       "  <tbody>\n",
       "    <tr>\n",
       "      <th>2</th>\n",
       "      <td>{'max_depth': 50}</td>\n",
       "      <td>0.999985</td>\n",
       "      <td>0.839537</td>\n",
       "      <td>16.045023</td>\n",
       "    </tr>\n",
       "    <tr>\n",
       "      <th>3</th>\n",
       "      <td>{'max_depth': 65}</td>\n",
       "      <td>0.999993</td>\n",
       "      <td>0.839433</td>\n",
       "      <td>16.056103</td>\n",
       "    </tr>\n",
       "    <tr>\n",
       "      <th>4</th>\n",
       "      <td>{'max_depth': 75}</td>\n",
       "      <td>0.999993</td>\n",
       "      <td>0.839433</td>\n",
       "      <td>16.056103</td>\n",
       "    </tr>\n",
       "    <tr>\n",
       "      <th>1</th>\n",
       "      <td>{'max_depth': 45}</td>\n",
       "      <td>0.999881</td>\n",
       "      <td>0.839358</td>\n",
       "      <td>16.054123</td>\n",
       "    </tr>\n",
       "    <tr>\n",
       "      <th>0</th>\n",
       "      <td>{'max_depth': 40}</td>\n",
       "      <td>0.999060</td>\n",
       "      <td>0.839266</td>\n",
       "      <td>15.994401</td>\n",
       "    </tr>\n",
       "  </tbody>\n",
       "</table>\n",
       "</div>"
      ],
      "text/plain": [
       "              params  mean_train_score  mean_test_score    diff, %\n",
       "2  {'max_depth': 50}          0.999985         0.839537  16.045023\n",
       "3  {'max_depth': 65}          0.999993         0.839433  16.056103\n",
       "4  {'max_depth': 75}          0.999993         0.839433  16.056103\n",
       "1  {'max_depth': 45}          0.999881         0.839358  16.054123\n",
       "0  {'max_depth': 40}          0.999060         0.839266  15.994401"
      ]
     },
     "execution_count": 98,
     "metadata": {},
     "output_type": "execute_result"
    }
   ],
   "source": [
    "cv_results = pd.DataFrame(grid_search.cv_results_)[['params', 'mean_train_score', 'mean_test_score']]\n",
    "cv_results[\"diff, %\"] = 100*(cv_results[\"mean_train_score\"]-cv_results[\"mean_test_score\"]\n",
    "                                                     )/cv_results[\"mean_train_score\"]\n",
    "\n",
    "pd.set_option('display.max_colwidth', 100)\n",
    "cv_results.sort_values('mean_test_score', ascending=False)"
   ]
  },
  {
   "cell_type": "code",
   "execution_count": 99,
   "id": "6334423c",
   "metadata": {},
   "outputs": [
    {
     "data": {
      "text/plain": [
       "['models/dt-clf.joblib']"
      ]
     },
     "execution_count": 99,
     "metadata": {},
     "output_type": "execute_result"
    }
   ],
   "source": [
    "dump(dt_best_estimate, 'models/dt-clf.joblib')"
   ]
  },
  {
   "cell_type": "markdown",
   "id": "a6a66583",
   "metadata": {},
   "source": [
    "### Calculating model performance for testing"
   ]
  },
  {
   "cell_type": "code",
   "execution_count": 100,
   "id": "8b0eca6a",
   "metadata": {
    "scrolled": true
   },
   "outputs": [
    {
     "name": "stdout",
     "output_type": "stream",
     "text": [
      "Random Forest:\n",
      "Precision: 0.6739841639584393\n",
      "Recall: 0.6923184516466359\n",
      "F score: 0.6826931117514227\n"
     ]
    }
   ],
   "source": [
    "from sklearn.metrics import precision_recall_fscore_support\n",
    "from joblib import load\n",
    "\n",
    "best_dt = load(\"models/dt-clf.joblib\")\n",
    "# nn\n",
    "yhat_dt = best_dt.predict(Xtest)\n",
    "\n",
    "# micro-averaged precision, recall and f-score\n",
    "p, r, dt_test_score, s = precision_recall_fscore_support(ytest, yhat_dt, average=\"macro\")\n",
    "print(\"Random Forest:\")\n",
    "print(f\"Precision: {p}\")\n",
    "print(f\"Recall: {r}\")\n",
    "print(f\"F score: {dt_test_score}\")"
   ]
  },
  {
   "cell_type": "markdown",
   "id": "8ecee869",
   "metadata": {},
   "source": [
    "## Model interpretation"
   ]
  },
  {
   "cell_type": "markdown",
   "id": "85b74622",
   "metadata": {},
   "source": [
    "### Overfitting test"
   ]
  },
  {
   "cell_type": "markdown",
   "id": "dcfadc56",
   "metadata": {},
   "source": [
    "Here we test for overfitting by checking the difference between the performance of the dataset from training to dataset. For this test I have assumed a threshold difference of 15% over which we shall assume the model is overfitting"
   ]
  },
  {
   "cell_type": "code",
   "execution_count": 101,
   "id": "523291b6",
   "metadata": {},
   "outputs": [
    {
     "name": "stdout",
     "output_type": "stream",
     "text": [
      "The difference between performance of model for training set against test is 15.68%\n",
      "The difference between training and test performance is too high, overfitting may be present\n"
     ]
    }
   ],
   "source": [
    "diff_overfitting = (dt_train_score - dt_test_score)*100\n",
    "diff_overfitting = round(diff_overfitting,2)\n",
    "print(f'The difference between performance of model for training set against test is {diff_overfitting}%')\n",
    "if diff_overfitting < 15:\n",
    "    print('The difference between training and test performance is less, overfitting may not be present')\n",
    "else:\n",
    "    print('The difference between training and test performance is too high, overfitting may be present')"
   ]
  },
  {
   "cell_type": "markdown",
   "id": "136dd511",
   "metadata": {},
   "source": [
    "### Performance against baseline"
   ]
  },
  {
   "cell_type": "code",
   "execution_count": 102,
   "id": "e8fbea70",
   "metadata": {},
   "outputs": [
    {
     "name": "stdout",
     "output_type": "stream",
     "text": [
      "The model is performing 54.95% better than the baseline model\n",
      "There is no significant improvement over baseline model\n"
     ]
    }
   ],
   "source": [
    "diff_baseline_dt = (dt_train_score - baseline_score)*100\n",
    "diff_baseline_dt = round(diff_baseline_dt,2)\n",
    "print(f'The model is performing {diff_baseline_dt}% better than the baseline model')\n",
    "if diff_baseline_rf < 20:\n",
    "    print('There is no significant improvement over baseline model')\n",
    "else:\n",
    "    print('There is a significant improvement over the baseline model')"
   ]
  },
  {
   "cell_type": "markdown",
   "id": "9a989260",
   "metadata": {},
   "source": [
    "### Confusion matrix"
   ]
  },
  {
   "cell_type": "code",
   "execution_count": 103,
   "id": "81c17a8e",
   "metadata": {},
   "outputs": [
    {
     "name": "stdout",
     "output_type": "stream",
     "text": [
      "[[ 1353   274   642]\n",
      " [  247 13887  8628]\n",
      " [  787 10441 75516]]\n"
     ]
    }
   ],
   "source": [
    "from sklearn.metrics import confusion_matrix\n",
    "cfsn_matrix = confusion_matrix(ytest, yhat_dt)\n",
    "\n",
    "print(cfsn_matrix)"
   ]
  },
  {
   "cell_type": "code",
   "execution_count": 104,
   "id": "6ae82b64",
   "metadata": {},
   "outputs": [],
   "source": [
    "cfsn_matrix = (cfsn_matrix.T/cfsn_matrix.sum(axis=1)).T"
   ]
  },
  {
   "cell_type": "code",
   "execution_count": 105,
   "id": "489c1472",
   "metadata": {},
   "outputs": [
    {
     "data": {
      "image/png": "[encoded data removed]",
      "text/plain": [
       "<Figure size 720x576 with 2 Axes>"
      ]
     },
     "metadata": {},
     "output_type": "display_data"
    }
   ],
   "source": [
    "import seaborn as sns\n",
    "import matplotlib.pyplot as plt\n",
    "\n",
    "sns.set(rc={'figure.figsize':(10,8)})\n",
    "ax = sns.heatmap(cfsn_matrix, annot=True, \n",
    "            fmt='.2%', cmap='BuPu')\n",
    "\n",
    "ax.set_title('Seaborn Confusion Matrix with labels\\n\\n');\n",
    "ax.set_xlabel('\\nPredicted Values')\n",
    "ax.set_ylabel('Actual Values ');\n",
    "\n",
    "## Ticket labels - List must be in alphabetical order\n",
    "ax.xaxis.set_ticklabels(['Fatal','Serious', 'Slight'])\n",
    "ax.yaxis.set_ticklabels(['Fatal','Serious', 'Slight'])\n",
    "\n",
    "## Display the visualization of the Confusion Matrix.\n",
    "plt.show()"
   ]
  },
  {
   "cell_type": "markdown",
   "id": "4990058e",
   "metadata": {},
   "source": [
    "#### Model interpretation \n",
    "The difference between performance of model for training set against test is 15.68%\n",
    "The difference between training and test performance is too high, slight overfitting may be present\n",
    "The model is performing 54.95% better than the baseline model\n",
    "There is no significant improvement over baseline model\n",
    "The confusion matrix shows promising results with True Positives and True Negatives proportion being the highest for all categories. This can be considered as one of the best model out of all the models considered so far."
   ]
  },
  {
   "cell_type": "markdown",
   "id": "8540d7ea",
   "metadata": {},
   "source": [
    "## Key findings"
   ]
  },
  {
   "cell_type": "markdown",
   "id": "49420176",
   "metadata": {},
   "source": [
    "### Time taken analysis"
   ]
  },
  {
   "cell_type": "code",
   "execution_count": 106,
   "id": "a45d7a68",
   "metadata": {},
   "outputs": [],
   "source": [
    "#Creating a list of all the time variables derived from respective models\n",
    "time_list = [lr_time, rf_time, nn_time, dt_time]\n",
    "models = ['Logistic Regression', 'Random Forest', 'Neural Network', 'Decision Tree']"
   ]
  },
  {
   "cell_type": "code",
   "execution_count": 107,
   "id": "07479055",
   "metadata": {},
   "outputs": [
    {
     "data": {
      "text/plain": [
       "<function matplotlib.pyplot.show(close=None, block=None)>"
      ]
     },
     "execution_count": 107,
     "metadata": {},
     "output_type": "execute_result"
    },
    {
     "data": {
      "image/png": "[encoded data removed]",
      "text/plain": [
       "<Figure size 720x576 with 1 Axes>"
      ]
     },
     "metadata": {},
     "output_type": "display_data"
    }
   ],
   "source": [
    "#Plotting a bar chart for understanding comparison of the time taken\n",
    "import matplotlib.pyplot as plt\n",
    "plt.bar(models, time_list)\n",
    "plt.title('Comparison of time taken for different models to run')\n",
    "plt.xlabel('Models')\n",
    "plt.ylabel('Time taken')\n",
    "plt.show"
   ]
  },
  {
   "cell_type": "markdown",
   "id": "8967ba8e",
   "metadata": {},
   "source": [
    "As we can see, Neural network takes the most time out of all the models considered for this project and the least time is taken by decision tree"
   ]
  },
  {
   "cell_type": "markdown",
   "id": "c4b1875d",
   "metadata": {},
   "source": [
    "### Baseline performance analysis"
   ]
  },
  {
   "cell_type": "code",
   "execution_count": 108,
   "id": "eca5769b",
   "metadata": {},
   "outputs": [],
   "source": [
    "#Creating list of all the performance score against baseline model\n",
    "performance_list = [diff_baseline_lr, diff_baseline_rf, diff_baseline_nn, diff_baseline_dt]"
   ]
  },
  {
   "cell_type": "code",
   "execution_count": 109,
   "id": "e41097bd",
   "metadata": {},
   "outputs": [
    {
     "data": {
      "text/plain": [
       "<function matplotlib.pyplot.show(close=None, block=None)>"
      ]
     },
     "execution_count": 109,
     "metadata": {},
     "output_type": "execute_result"
    },
    {
     "data": {
      "image/png": "[encoded data removed]",
      "text/plain": [
       "<Figure size 720x576 with 1 Axes>"
      ]
     },
     "metadata": {},
     "output_type": "display_data"
    }
   ],
   "source": [
    "#Plotting a bar chart for understanding comparison of the time taken\n",
    "import matplotlib.pyplot as plt\n",
    "plt.bar(models, performance_list)\n",
    "plt.title('Comparison of model performance against baseline')\n",
    "plt.xlabel('Models')\n",
    "plt.ylabel('Baseline performance score')\n",
    "plt.show"
   ]
  },
  {
   "cell_type": "markdown",
   "id": "391179ac",
   "metadata": {},
   "source": [
    "It can be said that decision tree is the best performing model out of all the models considered followed by random forest, rest 2 models are not worth considering. Hence we can say that the best model which can be considered is Decision tree as it is a model which has the best performance score out of all the models and also it takes the least time for execution"
   ]
  },
  {
   "cell_type": "markdown",
   "id": "a218a467",
   "metadata": {},
   "source": [
    "Regarding this data analysis some of the key highlights which we can touch upon are as follows\n",
    "1. Vast amount of data\n",
    "\n",
    "there was nearly 420,000 rows of data taken into consideration. The problem posed by this is mainly regarding finding the apt amount of time for the program to do an extensive, exhaustive grid search. For the scope of the coursework initially exhaustive grid search was taken into consideration, post that to draw various conclusion due to the time factor, some compromises such as taking random grid search was taken due to which around 10% of performance was sacrificed. In a real life scenario this may be worth taking as for our insurance company very high level of accuracy is not exactly required because the nature of this prediction is already counterintuitive in nature\n",
    "\n",
    "2. Category imbalance\n",
    "\n",
    "of the target variable is a serious issue during machine learning classification problem, understanding and dealing with this can cause a boost of performance which was found in our dataset. As we saw above there is a huge imbalance i.e., around 70% belongs to one category which will lead the model to predict this category more often than not. 3 key approaches were taken to deal with this - Oversampling, Undersampling and doing both over and under at the same time. For this project Oversampling minority categories to a higher ration helped in improving the performance\n",
    "\n",
    "3. Quality of data\n",
    "\n",
    "There were around 300,000 rows of data dropped from the dataset due to missing rows. This is not a good indicator of data, with dropping such huge numbers we have lost crucial data in the process which could have potentially improved our model predictive performance. Lot of data pre processing steps were undertaken in the project including, handling outliers, scaling, category binning which helped improve the predicetive quality of the data"
   ]
  },
  {
   "cell_type": "markdown",
   "id": "0d539a65",
   "metadata": {},
   "source": [
    "## Conclusion"
   ]
  },
  {
   "cell_type": "markdown",
   "id": "07012f57",
   "metadata": {},
   "source": [
    "The insurance company can definitely benefit from the predictive modelling discussed above. Some of the benefits which can be reaped by the company include\n",
    "1. Offer cheaper premium to customers who are prone to low number of accidents. This can help the company beat the competition and get more customers.\n",
    "\n",
    "2. Importance of variables can be helpful for the insurance company to know what exactly are the factors that are affecting the severity of accidents which is a source of potential burden to the company. Hence, the company can target  advertising depending on the various factors to gain more customers\n",
    "\n",
    "3. Charge more premium to customers who are more prone to severe accidents. These customers are causing majority of the burden to the company. So company can strategize in such a way to avoid these type of customers based on the factors learnt"
   ]
  }
 ],
 "metadata": {
  "kernelspec": {
   "display_name": "Python 3 (ipykernel)",
   "language": "python",
   "name": "python3"
  },
  "language_info": {
   "codemirror_mode": {
    "name": "ipython",
    "version": 3
   },
   "file_extension": ".py",
   "mimetype": "text/x-python",
   "name": "python",
   "nbconvert_exporter": "python",
   "pygments_lexer": "ipython3",
   "version": "3.9.7"
  }
 },
 "nbformat": 4,
 "nbformat_minor": 5
}
